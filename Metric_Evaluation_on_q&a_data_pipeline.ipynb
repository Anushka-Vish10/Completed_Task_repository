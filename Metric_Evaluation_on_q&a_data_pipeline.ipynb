{
  "nbformat": 4,
  "nbformat_minor": 0,
  "metadata": {
    "colab": {
      "name": "Metric_Evaluation_on_q&a_data_pipeline.ipynb",
      "provenance": []
    },
    "kernelspec": {
      "name": "python3",
      "display_name": "Python 3"
    },
    "language_info": {
      "name": "python"
    }
  },
  "cells": [
    {
      "cell_type": "code",
      "metadata": {
        "colab": {
          "base_uri": "https://localhost:8080/"
        },
        "id": "SfuiGYCa1p8x",
        "outputId": "b87435da-64ec-4e5f-853d-21fb4b90e232"
      },
      "source": [
        "! pip install jiwer"
      ],
      "execution_count": 1,
      "outputs": [
        {
          "output_type": "stream",
          "name": "stdout",
          "text": [
            "Requirement already satisfied: jiwer in /usr/local/lib/python3.7/dist-packages (2.2.0)\n",
            "Requirement already satisfied: numpy in /usr/local/lib/python3.7/dist-packages (from jiwer) (1.19.5)\n",
            "Requirement already satisfied: python-Levenshtein in /usr/local/lib/python3.7/dist-packages (from jiwer) (0.12.2)\n",
            "Requirement already satisfied: setuptools in /usr/local/lib/python3.7/dist-packages (from python-Levenshtein->jiwer) (57.4.0)\n"
          ]
        }
      ]
    },
    {
      "cell_type": "code",
      "metadata": {
        "id": "_BYKMq0WbMDP"
      },
      "source": [
        "import pandas as pd\n",
        "import ast\n",
        "import csv"
      ],
      "execution_count": 2,
      "outputs": []
    },
    {
      "cell_type": "code",
      "metadata": {
        "id": "Twwe9zbyuk1z"
      },
      "source": [
        "\n",
        "from sklearn.feature_extraction.text import CountVectorizer\n",
        "from sklearn.metrics.pairwise import cosine_similarity\n",
        "from sklearn.metrics import f1_score\n",
        "from jiwer import wer\n"
      ],
      "execution_count": 3,
      "outputs": []
    },
    {
      "cell_type": "code",
      "metadata": {
        "colab": {
          "base_uri": "https://localhost:8080/",
          "height": 306
        },
        "id": "R9h7tbyYcg7G",
        "outputId": "c027f5cc-b122-4d5b-f295-5138e216ea84"
      },
      "source": [
        "\n",
        "data = pd.read_csv('/content/qna_data.csv')\n",
        "data.head()"
      ],
      "execution_count": 4,
      "outputs": [
        {
          "output_type": "execute_result",
          "data": {
            "text/html": [
              "<div>\n",
              "<style scoped>\n",
              "    .dataframe tbody tr th:only-of-type {\n",
              "        vertical-align: middle;\n",
              "    }\n",
              "\n",
              "    .dataframe tbody tr th {\n",
              "        vertical-align: top;\n",
              "    }\n",
              "\n",
              "    .dataframe thead th {\n",
              "        text-align: right;\n",
              "    }\n",
              "</style>\n",
              "<table border=\"1\" class=\"dataframe\">\n",
              "  <thead>\n",
              "    <tr style=\"text-align: right;\">\n",
              "      <th></th>\n",
              "      <th>Unnamed: 0</th>\n",
              "      <th>User Query</th>\n",
              "      <th>FAISS Search</th>\n",
              "      <th>ANN Search</th>\n",
              "      <th>Bert Similarity</th>\n",
              "      <th>original_answers</th>\n",
              "    </tr>\n",
              "  </thead>\n",
              "  <tbody>\n",
              "    <tr>\n",
              "      <th>0</th>\n",
              "      <td>0</td>\n",
              "      <td>Design load calculation method</td>\n",
              "      <td>[['load combination Engineering judgment shall...</td>\n",
              "      <td>[['gas duct sizing calculation Critical pipe s...</td>\n",
              "      <td>['load combination', 'load combination', 'stru...</td>\n",
              "      <td>ASCE/SEI 7-05</td>\n",
              "    </tr>\n",
              "    <tr>\n",
              "      <th>1</th>\n",
              "      <td>1</td>\n",
              "      <td>Structural design software and version</td>\n",
              "      <td>[['DIPWP PROJECT Document Title DESIGN CRITERI...</td>\n",
              "      <td>[['DIPWP PROJECT Document Title DESIGN CRITERI...</td>\n",
              "      <td>['Ultimate Strength Design', 'BS 8102 Code', '...</td>\n",
              "      <td>STAAD Pro V8</td>\n",
              "    </tr>\n",
              "    <tr>\n",
              "      <th>2</th>\n",
              "      <td>2</td>\n",
              "      <td>Structural design life</td>\n",
              "      <td>[['Title DESIGN CRITERIA DOCUMENT CIVIL STRUCT...</td>\n",
              "      <td>[['Celsius C 5 DESIGN LIFE All civil structura...</td>\n",
              "      <td>['foundations', 'Ultimate Strength Design', 'D...</td>\n",
              "      <td>30 years</td>\n",
              "    </tr>\n",
              "    <tr>\n",
              "      <th>3</th>\n",
              "      <td>3</td>\n",
              "      <td>Basic wind speed</td>\n",
              "      <td>[['determined by the basic equation P qzGCP qi...</td>\n",
              "      <td>[['than 60 of operating speed For pump unit ha...</td>\n",
              "      <td>['Non Building Structures', 'Non Building Stru...</td>\n",
              "      <td>55ms</td>\n",
              "    </tr>\n",
              "    <tr>\n",
              "      <th>4</th>\n",
              "      <td>4</td>\n",
              "      <td>period of basic wind speed</td>\n",
              "      <td>[['7 05 V Basic Wind Speed m/s Wind Force Buil...</td>\n",
              "      <td>[['times and loading rates of power units and ...</td>\n",
              "      <td>['m/s', 'm/s', 'Full load rejection tests to m...</td>\n",
              "      <td>3 sec gust</td>\n",
              "    </tr>\n",
              "  </tbody>\n",
              "</table>\n",
              "</div>"
            ],
            "text/plain": [
              "   Unnamed: 0  ... original_answers\n",
              "0           0  ...    ASCE/SEI 7-05\n",
              "1           1  ...     STAAD Pro V8\n",
              "2           2  ...         30 years\n",
              "3           3  ...             55ms\n",
              "4           4  ...       3 sec gust\n",
              "\n",
              "[5 rows x 6 columns]"
            ]
          },
          "metadata": {},
          "execution_count": 4
        }
      ]
    },
    {
      "cell_type": "code",
      "metadata": {
        "id": "t3_MUGOMdRT7"
      },
      "source": [
        "new_df = data[['User Query','Bert Similarity','original_answers']]"
      ],
      "execution_count": 5,
      "outputs": []
    },
    {
      "cell_type": "code",
      "metadata": {
        "colab": {
          "base_uri": "https://localhost:8080/",
          "height": 142
        },
        "id": "RGzPSM7zeT3s",
        "outputId": "ce91cdc0-1a98-414e-fe42-0b2a21974f80"
      },
      "source": [
        "new_df.head(3)"
      ],
      "execution_count": 6,
      "outputs": [
        {
          "output_type": "execute_result",
          "data": {
            "text/html": [
              "<div>\n",
              "<style scoped>\n",
              "    .dataframe tbody tr th:only-of-type {\n",
              "        vertical-align: middle;\n",
              "    }\n",
              "\n",
              "    .dataframe tbody tr th {\n",
              "        vertical-align: top;\n",
              "    }\n",
              "\n",
              "    .dataframe thead th {\n",
              "        text-align: right;\n",
              "    }\n",
              "</style>\n",
              "<table border=\"1\" class=\"dataframe\">\n",
              "  <thead>\n",
              "    <tr style=\"text-align: right;\">\n",
              "      <th></th>\n",
              "      <th>User Query</th>\n",
              "      <th>Bert Similarity</th>\n",
              "      <th>original_answers</th>\n",
              "    </tr>\n",
              "  </thead>\n",
              "  <tbody>\n",
              "    <tr>\n",
              "      <th>0</th>\n",
              "      <td>Design load calculation method</td>\n",
              "      <td>['load combination', 'load combination', 'stru...</td>\n",
              "      <td>ASCE/SEI 7-05</td>\n",
              "    </tr>\n",
              "    <tr>\n",
              "      <th>1</th>\n",
              "      <td>Structural design software and version</td>\n",
              "      <td>['Ultimate Strength Design', 'BS 8102 Code', '...</td>\n",
              "      <td>STAAD Pro V8</td>\n",
              "    </tr>\n",
              "    <tr>\n",
              "      <th>2</th>\n",
              "      <td>Structural design life</td>\n",
              "      <td>['foundations', 'Ultimate Strength Design', 'D...</td>\n",
              "      <td>30 years</td>\n",
              "    </tr>\n",
              "  </tbody>\n",
              "</table>\n",
              "</div>"
            ],
            "text/plain": [
              "                               User Query  ... original_answers\n",
              "0          Design load calculation method  ...    ASCE/SEI 7-05\n",
              "1  Structural design software and version  ...     STAAD Pro V8\n",
              "2                  Structural design life  ...         30 years\n",
              "\n",
              "[3 rows x 3 columns]"
            ]
          },
          "metadata": {},
          "execution_count": 6
        }
      ]
    },
    {
      "cell_type": "code",
      "metadata": {
        "colab": {
          "base_uri": "https://localhost:8080/"
        },
        "id": "cWXrNxNTgyH6",
        "outputId": "15b0a37c-20ef-49b4-c125-10f4cecce6fe"
      },
      "source": [
        "\n",
        "for i in range(len(new_df['Bert Similarity'])):\n",
        "  new_df['Bert Similarity'][i] = ast.literal_eval(new_df['Bert Similarity'][i])"
      ],
      "execution_count": 7,
      "outputs": [
        {
          "output_type": "stream",
          "name": "stderr",
          "text": [
            "/usr/local/lib/python3.7/dist-packages/IPython/core/interactiveshell.py:2882: SettingWithCopyWarning: \n",
            "A value is trying to be set on a copy of a slice from a DataFrame\n",
            "\n",
            "See the caveats in the documentation: https://pandas.pydata.org/pandas-docs/stable/user_guide/indexing.html#returning-a-view-versus-a-copy\n",
            "  exec(code_obj, self.user_global_ns, self.user_ns)\n"
          ]
        }
      ]
    },
    {
      "cell_type": "code",
      "metadata": {
        "colab": {
          "base_uri": "https://localhost:8080/"
        },
        "id": "SAKbWBJDhcQl",
        "outputId": "12e7fd67-8017-4410-e4d1-75e2692bd722"
      },
      "source": [
        "new_df['Bert Similarity'][10]"
      ],
      "execution_count": 8,
      "outputs": [
        {
          "output_type": "execute_result",
          "data": {
            "text/plain": [
              "['Flexible coupling between blower and motor',\n",
              " 'slide rails',\n",
              " 'Carbon Steel Bolts',\n",
              " 'Structural Bolts']"
            ]
          },
          "metadata": {},
          "execution_count": 8
        }
      ]
    },
    {
      "cell_type": "code",
      "metadata": {
        "id": "T1cqyYNl66-8"
      },
      "source": [
        "final_df = new_df.explode('Bert Similarity')"
      ],
      "execution_count": 9,
      "outputs": []
    },
    {
      "cell_type": "code",
      "metadata": {
        "colab": {
          "base_uri": "https://localhost:8080/",
          "height": 359
        },
        "id": "E2kGjtfc7OBU",
        "outputId": "7c9eaf88-507e-4207-b8ab-0a62c0744038"
      },
      "source": [
        "final_df.head(10)"
      ],
      "execution_count": 10,
      "outputs": [
        {
          "output_type": "execute_result",
          "data": {
            "text/html": [
              "<div>\n",
              "<style scoped>\n",
              "    .dataframe tbody tr th:only-of-type {\n",
              "        vertical-align: middle;\n",
              "    }\n",
              "\n",
              "    .dataframe tbody tr th {\n",
              "        vertical-align: top;\n",
              "    }\n",
              "\n",
              "    .dataframe thead th {\n",
              "        text-align: right;\n",
              "    }\n",
              "</style>\n",
              "<table border=\"1\" class=\"dataframe\">\n",
              "  <thead>\n",
              "    <tr style=\"text-align: right;\">\n",
              "      <th></th>\n",
              "      <th>User Query</th>\n",
              "      <th>Bert Similarity</th>\n",
              "      <th>original_answers</th>\n",
              "    </tr>\n",
              "  </thead>\n",
              "  <tbody>\n",
              "    <tr>\n",
              "      <th>0</th>\n",
              "      <td>Design load calculation method</td>\n",
              "      <td>load combination</td>\n",
              "      <td>ASCE/SEI 7-05</td>\n",
              "    </tr>\n",
              "    <tr>\n",
              "      <th>0</th>\n",
              "      <td>Design load calculation method</td>\n",
              "      <td>load combination</td>\n",
              "      <td>ASCE/SEI 7-05</td>\n",
              "    </tr>\n",
              "    <tr>\n",
              "      <th>0</th>\n",
              "      <td>Design load calculation method</td>\n",
              "      <td>structural calculation with seismic load calcu...</td>\n",
              "      <td>ASCE/SEI 7-05</td>\n",
              "    </tr>\n",
              "    <tr>\n",
              "      <th>0</th>\n",
              "      <td>Design load calculation method</td>\n",
              "      <td>strength and stresses</td>\n",
              "      <td>ASCE/SEI 7-05</td>\n",
              "    </tr>\n",
              "    <tr>\n",
              "      <th>1</th>\n",
              "      <td>Structural design software and version</td>\n",
              "      <td>Ultimate Strength Design</td>\n",
              "      <td>STAAD Pro V8</td>\n",
              "    </tr>\n",
              "    <tr>\n",
              "      <th>1</th>\n",
              "      <td>Structural design software and version</td>\n",
              "      <td>BS 8102 Code</td>\n",
              "      <td>STAAD Pro V8</td>\n",
              "    </tr>\n",
              "    <tr>\n",
              "      <th>1</th>\n",
              "      <td>Structural design software and version</td>\n",
              "      <td>Ultimate Strength Design</td>\n",
              "      <td>STAAD Pro V8</td>\n",
              "    </tr>\n",
              "    <tr>\n",
              "      <th>1</th>\n",
              "      <td>Structural design software and version</td>\n",
              "      <td>in house developed worksheets</td>\n",
              "      <td>STAAD Pro V8</td>\n",
              "    </tr>\n",
              "    <tr>\n",
              "      <th>2</th>\n",
              "      <td>Structural design life</td>\n",
              "      <td>foundations</td>\n",
              "      <td>30 years</td>\n",
              "    </tr>\n",
              "    <tr>\n",
              "      <th>2</th>\n",
              "      <td>Structural design life</td>\n",
              "      <td>Ultimate Strength Design</td>\n",
              "      <td>30 years</td>\n",
              "    </tr>\n",
              "  </tbody>\n",
              "</table>\n",
              "</div>"
            ],
            "text/plain": [
              "                               User Query  ... original_answers\n",
              "0          Design load calculation method  ...    ASCE/SEI 7-05\n",
              "0          Design load calculation method  ...    ASCE/SEI 7-05\n",
              "0          Design load calculation method  ...    ASCE/SEI 7-05\n",
              "0          Design load calculation method  ...    ASCE/SEI 7-05\n",
              "1  Structural design software and version  ...     STAAD Pro V8\n",
              "1  Structural design software and version  ...     STAAD Pro V8\n",
              "1  Structural design software and version  ...     STAAD Pro V8\n",
              "1  Structural design software and version  ...     STAAD Pro V8\n",
              "2                  Structural design life  ...         30 years\n",
              "2                  Structural design life  ...         30 years\n",
              "\n",
              "[10 rows x 3 columns]"
            ]
          },
          "metadata": {},
          "execution_count": 10
        }
      ]
    },
    {
      "cell_type": "code",
      "metadata": {
        "id": "TV-jk9Ju705X"
      },
      "source": [
        "final_df.reset_index(inplace=True)"
      ],
      "execution_count": 11,
      "outputs": []
    },
    {
      "cell_type": "code",
      "metadata": {
        "id": "Ys1yPGZi-tjY"
      },
      "source": [
        "final_df = final_df.drop(\"index\", axis = 1)"
      ],
      "execution_count": 12,
      "outputs": []
    },
    {
      "cell_type": "code",
      "metadata": {
        "colab": {
          "base_uri": "https://localhost:8080/",
          "height": 359
        },
        "id": "o6-U-RtE-m-Y",
        "outputId": "087e63ab-38c1-43bb-8bee-aca0780e9401"
      },
      "source": [
        "final_df.head(10)"
      ],
      "execution_count": 13,
      "outputs": [
        {
          "output_type": "execute_result",
          "data": {
            "text/html": [
              "<div>\n",
              "<style scoped>\n",
              "    .dataframe tbody tr th:only-of-type {\n",
              "        vertical-align: middle;\n",
              "    }\n",
              "\n",
              "    .dataframe tbody tr th {\n",
              "        vertical-align: top;\n",
              "    }\n",
              "\n",
              "    .dataframe thead th {\n",
              "        text-align: right;\n",
              "    }\n",
              "</style>\n",
              "<table border=\"1\" class=\"dataframe\">\n",
              "  <thead>\n",
              "    <tr style=\"text-align: right;\">\n",
              "      <th></th>\n",
              "      <th>User Query</th>\n",
              "      <th>Bert Similarity</th>\n",
              "      <th>original_answers</th>\n",
              "    </tr>\n",
              "  </thead>\n",
              "  <tbody>\n",
              "    <tr>\n",
              "      <th>0</th>\n",
              "      <td>Design load calculation method</td>\n",
              "      <td>load combination</td>\n",
              "      <td>ASCE/SEI 7-05</td>\n",
              "    </tr>\n",
              "    <tr>\n",
              "      <th>1</th>\n",
              "      <td>Design load calculation method</td>\n",
              "      <td>load combination</td>\n",
              "      <td>ASCE/SEI 7-05</td>\n",
              "    </tr>\n",
              "    <tr>\n",
              "      <th>2</th>\n",
              "      <td>Design load calculation method</td>\n",
              "      <td>structural calculation with seismic load calcu...</td>\n",
              "      <td>ASCE/SEI 7-05</td>\n",
              "    </tr>\n",
              "    <tr>\n",
              "      <th>3</th>\n",
              "      <td>Design load calculation method</td>\n",
              "      <td>strength and stresses</td>\n",
              "      <td>ASCE/SEI 7-05</td>\n",
              "    </tr>\n",
              "    <tr>\n",
              "      <th>4</th>\n",
              "      <td>Structural design software and version</td>\n",
              "      <td>Ultimate Strength Design</td>\n",
              "      <td>STAAD Pro V8</td>\n",
              "    </tr>\n",
              "    <tr>\n",
              "      <th>5</th>\n",
              "      <td>Structural design software and version</td>\n",
              "      <td>BS 8102 Code</td>\n",
              "      <td>STAAD Pro V8</td>\n",
              "    </tr>\n",
              "    <tr>\n",
              "      <th>6</th>\n",
              "      <td>Structural design software and version</td>\n",
              "      <td>Ultimate Strength Design</td>\n",
              "      <td>STAAD Pro V8</td>\n",
              "    </tr>\n",
              "    <tr>\n",
              "      <th>7</th>\n",
              "      <td>Structural design software and version</td>\n",
              "      <td>in house developed worksheets</td>\n",
              "      <td>STAAD Pro V8</td>\n",
              "    </tr>\n",
              "    <tr>\n",
              "      <th>8</th>\n",
              "      <td>Structural design life</td>\n",
              "      <td>foundations</td>\n",
              "      <td>30 years</td>\n",
              "    </tr>\n",
              "    <tr>\n",
              "      <th>9</th>\n",
              "      <td>Structural design life</td>\n",
              "      <td>Ultimate Strength Design</td>\n",
              "      <td>30 years</td>\n",
              "    </tr>\n",
              "  </tbody>\n",
              "</table>\n",
              "</div>"
            ],
            "text/plain": [
              "                               User Query  ... original_answers\n",
              "0          Design load calculation method  ...    ASCE/SEI 7-05\n",
              "1          Design load calculation method  ...    ASCE/SEI 7-05\n",
              "2          Design load calculation method  ...    ASCE/SEI 7-05\n",
              "3          Design load calculation method  ...    ASCE/SEI 7-05\n",
              "4  Structural design software and version  ...     STAAD Pro V8\n",
              "5  Structural design software and version  ...     STAAD Pro V8\n",
              "6  Structural design software and version  ...     STAAD Pro V8\n",
              "7  Structural design software and version  ...     STAAD Pro V8\n",
              "8                  Structural design life  ...         30 years\n",
              "9                  Structural design life  ...         30 years\n",
              "\n",
              "[10 rows x 3 columns]"
            ]
          },
          "metadata": {},
          "execution_count": 13
        }
      ]
    },
    {
      "cell_type": "code",
      "metadata": {
        "colab": {
          "base_uri": "https://localhost:8080/"
        },
        "id": "HAn0KRGHR3Sl",
        "outputId": "c5958dee-8bc8-43ec-9d26-f3f55e881a13"
      },
      "source": [
        "final_df.shape[0]"
      ],
      "execution_count": 14,
      "outputs": [
        {
          "output_type": "execute_result",
          "data": {
            "text/plain": [
              "80"
            ]
          },
          "metadata": {},
          "execution_count": 14
        }
      ]
    },
    {
      "cell_type": "markdown",
      "metadata": {
        "id": "qycn_Vh8emK6"
      },
      "source": [
        "# Consine prediction"
      ]
    },
    {
      "cell_type": "code",
      "metadata": {
        "id": "sptEwpqcek7i"
      },
      "source": [
        "def cosine_metric(dataFrame):\n",
        "  cosine_score = []\n",
        "  cv = CountVectorizer(max_features=500)\n",
        "  for i in range(dataFrame.shape[0]):\n",
        "    answers = [dataFrame.iloc[i,1], dataFrame.iloc[i,2]]\n",
        "  \n",
        "    vectors = cv.fit_transform(answers).toarray()\n",
        "    similarity = cosine_similarity(vectors)\n",
        "    cosine_score.append(similarity[1][0])\n",
        "  return cosine_score\n",
        "\n",
        "\n",
        "\n"
      ],
      "execution_count": 15,
      "outputs": []
    },
    {
      "cell_type": "code",
      "metadata": {
        "colab": {
          "base_uri": "https://localhost:8080/"
        },
        "id": "nD-Q0pAKSeAX",
        "outputId": "70c0a3ae-43b0-45a2-831a-00fa54c34ae9"
      },
      "source": [
        "len(cosine_metric(final_df))"
      ],
      "execution_count": 16,
      "outputs": [
        {
          "output_type": "execute_result",
          "data": {
            "text/plain": [
              "80"
            ]
          },
          "metadata": {},
          "execution_count": 16
        }
      ]
    },
    {
      "cell_type": "markdown",
      "metadata": {
        "id": "B7RXGt3Ierlp"
      },
      "source": [
        "# WER prediction"
      ]
    },
    {
      "cell_type": "code",
      "metadata": {
        "id": "CgGCNCToek9f"
      },
      "source": [
        "def wer_metric(dataFrame):\n",
        "  from jiwer import wer\n",
        "  wer_score = []\n",
        "  for i in range(dataFrame.shape[0]):\n",
        "    predicted = dataFrame.iloc[i,1]\n",
        "    original = dataFrame.iloc[i,2]\n",
        "    similarity = 1 - wer(original, predicted)\n",
        "    wer_score.append(similarity)\n",
        "  return wer_score"
      ],
      "execution_count": 17,
      "outputs": []
    },
    {
      "cell_type": "code",
      "metadata": {
        "colab": {
          "base_uri": "https://localhost:8080/"
        },
        "id": "AHJk8UnXSrhy",
        "outputId": "712f9416-f75d-459f-aa98-36fa300b44b6"
      },
      "source": [
        "len(wer_metric(final_df))"
      ],
      "execution_count": 18,
      "outputs": [
        {
          "output_type": "execute_result",
          "data": {
            "text/plain": [
              "80"
            ]
          },
          "metadata": {},
          "execution_count": 18
        }
      ]
    },
    {
      "cell_type": "markdown",
      "metadata": {
        "id": "s4hZZOuee-U6"
      },
      "source": [
        "# F1 Score prediction"
      ]
    },
    {
      "cell_type": "code",
      "metadata": {
        "id": "C0PevjxyelAF"
      },
      "source": [
        "def F1_metric(dataFrame):\n",
        "  F1score = []\n",
        "  for i in range(dataFrame.shape[0]):\n",
        "    pred_tokens = dataFrame.iloc[i,1].split()\n",
        "    truth_tokens = dataFrame.iloc[i,2].split()\n",
        "    if len(pred_tokens) == 0 or len(truth_tokens) == 0:\n",
        "      F1score.append(int(pred_tokens == truth_tokens))\n",
        "    common_tokens = set(pred_tokens) & set(truth_tokens)\n",
        "    if len(common_tokens) == 0:\n",
        "        F1score.append(0)\n",
        "    else:\n",
        "      prec = len(common_tokens) / len(pred_tokens)\n",
        "      rec = len(common_tokens) / len(truth_tokens)\n",
        "      F1score.append(2 * (prec * rec) / (prec + rec))\n",
        "  return F1score"
      ],
      "execution_count": 19,
      "outputs": []
    },
    {
      "cell_type": "code",
      "metadata": {
        "colab": {
          "base_uri": "https://localhost:8080/"
        },
        "id": "LRrL2xK3BJIP",
        "outputId": "147d8ae6-0408-4434-c944-b421215a9d94"
      },
      "source": [
        "len(F1_metric(final_df))"
      ],
      "execution_count": 20,
      "outputs": [
        {
          "output_type": "execute_result",
          "data": {
            "text/plain": [
              "80"
            ]
          },
          "metadata": {},
          "execution_count": 20
        }
      ]
    },
    {
      "cell_type": "markdown",
      "metadata": {
        "id": "Ry2Sn5Q-fH2w"
      },
      "source": [
        "# Metric Evaluation"
      ]
    },
    {
      "cell_type": "code",
      "metadata": {
        "id": "jaxvsHLPfE_Z"
      },
      "source": [
        "def get_evaluation_results(dataFrame, metric_names):\n",
        "\n",
        "\n",
        "  \n",
        "   \n",
        "  \n",
        "\n",
        "\n",
        "  for metric_name in metric_names:\n",
        "    if metric_name == 'cosine':\n",
        "      result = cosine_metric(dataFrame)\n",
        "      dataFrame['cosine_result'] = result\n",
        "\n",
        "    if metric_name == 'wer':\n",
        "      result =  wer_metric(dataFrame)\n",
        "      dataFrame['wer_result'] = result\n",
        "\n",
        "    if metric_name == \"F1Score\":\n",
        "      result =  F1_metric(dataFrame)\n",
        "\n",
        "      dataFrame['F1Score_result'] = result\n",
        "   \n",
        "\n",
        "  return dataFrame\n",
        "\n",
        "  \n",
        "\n",
        "  \n",
        "  \n",
        "  "
      ],
      "execution_count": 25,
      "outputs": []
    },
    {
      "cell_type": "code",
      "metadata": {
        "id": "gDetT6wVGOzP"
      },
      "source": [
        "dataFrame = final_df\n",
        "metric_names = ['cosine', 'wer', 'F1Score']"
      ],
      "execution_count": 26,
      "outputs": []
    },
    {
      "cell_type": "code",
      "metadata": {
        "colab": {
          "base_uri": "https://localhost:8080/",
          "height": 521
        },
        "id": "9rEp2mcFGIb1",
        "outputId": "3bc66b88-ddeb-4578-b201-689729cbe49d"
      },
      "source": [
        "get_evaluation_results(dataFrame, metric_names)"
      ],
      "execution_count": 27,
      "outputs": [
        {
          "output_type": "execute_result",
          "data": {
            "text/html": [
              "<div>\n",
              "<style scoped>\n",
              "    .dataframe tbody tr th:only-of-type {\n",
              "        vertical-align: middle;\n",
              "    }\n",
              "\n",
              "    .dataframe tbody tr th {\n",
              "        vertical-align: top;\n",
              "    }\n",
              "\n",
              "    .dataframe thead th {\n",
              "        text-align: right;\n",
              "    }\n",
              "</style>\n",
              "<table border=\"1\" class=\"dataframe\">\n",
              "  <thead>\n",
              "    <tr style=\"text-align: right;\">\n",
              "      <th></th>\n",
              "      <th>User Query</th>\n",
              "      <th>Bert Similarity</th>\n",
              "      <th>original_answers</th>\n",
              "      <th>cosine_result</th>\n",
              "      <th>wer_result</th>\n",
              "      <th>F1Score_result</th>\n",
              "    </tr>\n",
              "  </thead>\n",
              "  <tbody>\n",
              "    <tr>\n",
              "      <th>0</th>\n",
              "      <td>Design load calculation method</td>\n",
              "      <td>load combination</td>\n",
              "      <td>ASCE/SEI 7-05</td>\n",
              "      <td>0.000000</td>\n",
              "      <td>0.000000</td>\n",
              "      <td>0.00</td>\n",
              "    </tr>\n",
              "    <tr>\n",
              "      <th>1</th>\n",
              "      <td>Design load calculation method</td>\n",
              "      <td>load combination</td>\n",
              "      <td>ASCE/SEI 7-05</td>\n",
              "      <td>0.000000</td>\n",
              "      <td>0.000000</td>\n",
              "      <td>0.00</td>\n",
              "    </tr>\n",
              "    <tr>\n",
              "      <th>2</th>\n",
              "      <td>Design load calculation method</td>\n",
              "      <td>structural calculation with seismic load calcu...</td>\n",
              "      <td>ASCE/SEI 7-05</td>\n",
              "      <td>0.000000</td>\n",
              "      <td>-2.000000</td>\n",
              "      <td>0.00</td>\n",
              "    </tr>\n",
              "    <tr>\n",
              "      <th>3</th>\n",
              "      <td>Design load calculation method</td>\n",
              "      <td>strength and stresses</td>\n",
              "      <td>ASCE/SEI 7-05</td>\n",
              "      <td>0.000000</td>\n",
              "      <td>-0.500000</td>\n",
              "      <td>0.00</td>\n",
              "    </tr>\n",
              "    <tr>\n",
              "      <th>4</th>\n",
              "      <td>Structural design software and version</td>\n",
              "      <td>Ultimate Strength Design</td>\n",
              "      <td>STAAD Pro V8</td>\n",
              "      <td>0.000000</td>\n",
              "      <td>0.000000</td>\n",
              "      <td>0.00</td>\n",
              "    </tr>\n",
              "    <tr>\n",
              "      <th>...</th>\n",
              "      <td>...</td>\n",
              "      <td>...</td>\n",
              "      <td>...</td>\n",
              "      <td>...</td>\n",
              "      <td>...</td>\n",
              "      <td>...</td>\n",
              "    </tr>\n",
              "    <tr>\n",
              "      <th>75</th>\n",
              "      <td>Non headed Anchor Bolts, Studs orThreaded Bars</td>\n",
              "      <td>all anchor bolts nuts and washers shall be Hot...</td>\n",
              "      <td>AISC sections conforming to ASTM A36 or ASTM A...</td>\n",
              "      <td>0.000000</td>\n",
              "      <td>0.000000</td>\n",
              "      <td>0.00</td>\n",
              "    </tr>\n",
              "    <tr>\n",
              "      <th>76</th>\n",
              "      <td>Galvanizing standard</td>\n",
              "      <td>ASTM A234 WPB / IS 1239</td>\n",
              "      <td>galvanized in accordance with BSI BS EN ISO 14...</td>\n",
              "      <td>0.091287</td>\n",
              "      <td>0.052632</td>\n",
              "      <td>0.08</td>\n",
              "    </tr>\n",
              "    <tr>\n",
              "      <th>77</th>\n",
              "      <td>Galvanizing standard</td>\n",
              "      <td>EPDM/ Teflon Butt welded 8</td>\n",
              "      <td>galvanized in accordance with BSI BS EN ISO 14...</td>\n",
              "      <td>0.000000</td>\n",
              "      <td>0.000000</td>\n",
              "      <td>0.00</td>\n",
              "    </tr>\n",
              "    <tr>\n",
              "      <th>78</th>\n",
              "      <td>Galvanizing standard</td>\n",
              "      <td>High Temperature or High Pressure Service</td>\n",
              "      <td>galvanized in accordance with BSI BS EN ISO 14...</td>\n",
              "      <td>0.144338</td>\n",
              "      <td>0.052632</td>\n",
              "      <td>0.08</td>\n",
              "    </tr>\n",
              "    <tr>\n",
              "      <th>79</th>\n",
              "      <td>Galvanizing standard</td>\n",
              "      <td>High Temperature or High Pressure Service</td>\n",
              "      <td>galvanized in accordance with BSI BS EN ISO 14...</td>\n",
              "      <td>0.144338</td>\n",
              "      <td>0.052632</td>\n",
              "      <td>0.08</td>\n",
              "    </tr>\n",
              "  </tbody>\n",
              "</table>\n",
              "<p>80 rows × 6 columns</p>\n",
              "</div>"
            ],
            "text/plain": [
              "                                        User Query  ... F1Score_result\n",
              "0                   Design load calculation method  ...           0.00\n",
              "1                   Design load calculation method  ...           0.00\n",
              "2                   Design load calculation method  ...           0.00\n",
              "3                   Design load calculation method  ...           0.00\n",
              "4           Structural design software and version  ...           0.00\n",
              "..                                             ...  ...            ...\n",
              "75  Non headed Anchor Bolts, Studs orThreaded Bars  ...           0.00\n",
              "76                            Galvanizing standard  ...           0.08\n",
              "77                            Galvanizing standard  ...           0.00\n",
              "78                            Galvanizing standard  ...           0.08\n",
              "79                            Galvanizing standard  ...           0.08\n",
              "\n",
              "[80 rows x 6 columns]"
            ]
          },
          "metadata": {},
          "execution_count": 27
        }
      ]
    },
    {
      "cell_type": "code",
      "metadata": {
        "colab": {
          "base_uri": "https://localhost:8080/"
        },
        "id": "stu7O_OIdvDZ",
        "outputId": "cadca14d-21b6-430b-b344-875fbc01e98a"
      },
      "source": [
        "repeat_mul = len(final_df)\n"
      ],
      "execution_count": 34,
      "outputs": [
        {
          "output_type": "execute_result",
          "data": {
            "text/plain": [
              "80"
            ]
          },
          "metadata": {},
          "execution_count": 34
        }
      ]
    },
    {
      "cell_type": "code",
      "metadata": {
        "id": "H4wTBXpFdQmn"
      },
      "source": [
        "index = [1,2,3,4] * 20"
      ],
      "execution_count": 33,
      "outputs": []
    },
    {
      "cell_type": "code",
      "metadata": {
        "id": "1AVnM9YGgDyk"
      },
      "source": [
        "final_df['predicted_ans_index'] = index"
      ],
      "execution_count": 35,
      "outputs": []
    },
    {
      "cell_type": "code",
      "metadata": {
        "id": "Le-IvUq_elHx",
        "colab": {
          "base_uri": "https://localhost:8080/",
          "height": 669
        },
        "outputId": "3e66664b-b0ea-47ed-88d9-13ff65202298"
      },
      "source": [
        "final_df.head(20)"
      ],
      "execution_count": 36,
      "outputs": [
        {
          "output_type": "execute_result",
          "data": {
            "text/html": [
              "<div>\n",
              "<style scoped>\n",
              "    .dataframe tbody tr th:only-of-type {\n",
              "        vertical-align: middle;\n",
              "    }\n",
              "\n",
              "    .dataframe tbody tr th {\n",
              "        vertical-align: top;\n",
              "    }\n",
              "\n",
              "    .dataframe thead th {\n",
              "        text-align: right;\n",
              "    }\n",
              "</style>\n",
              "<table border=\"1\" class=\"dataframe\">\n",
              "  <thead>\n",
              "    <tr style=\"text-align: right;\">\n",
              "      <th></th>\n",
              "      <th>User Query</th>\n",
              "      <th>Bert Similarity</th>\n",
              "      <th>original_answers</th>\n",
              "      <th>cosine_result</th>\n",
              "      <th>wer_result</th>\n",
              "      <th>F1Score_result</th>\n",
              "      <th>predicted_ans_index</th>\n",
              "    </tr>\n",
              "  </thead>\n",
              "  <tbody>\n",
              "    <tr>\n",
              "      <th>0</th>\n",
              "      <td>Design load calculation method</td>\n",
              "      <td>load combination</td>\n",
              "      <td>ASCE/SEI 7-05</td>\n",
              "      <td>0.000000</td>\n",
              "      <td>0.000000</td>\n",
              "      <td>0.0</td>\n",
              "      <td>1</td>\n",
              "    </tr>\n",
              "    <tr>\n",
              "      <th>1</th>\n",
              "      <td>Design load calculation method</td>\n",
              "      <td>load combination</td>\n",
              "      <td>ASCE/SEI 7-05</td>\n",
              "      <td>0.000000</td>\n",
              "      <td>0.000000</td>\n",
              "      <td>0.0</td>\n",
              "      <td>2</td>\n",
              "    </tr>\n",
              "    <tr>\n",
              "      <th>2</th>\n",
              "      <td>Design load calculation method</td>\n",
              "      <td>structural calculation with seismic load calcu...</td>\n",
              "      <td>ASCE/SEI 7-05</td>\n",
              "      <td>0.000000</td>\n",
              "      <td>-2.000000</td>\n",
              "      <td>0.0</td>\n",
              "      <td>3</td>\n",
              "    </tr>\n",
              "    <tr>\n",
              "      <th>3</th>\n",
              "      <td>Design load calculation method</td>\n",
              "      <td>strength and stresses</td>\n",
              "      <td>ASCE/SEI 7-05</td>\n",
              "      <td>0.000000</td>\n",
              "      <td>-0.500000</td>\n",
              "      <td>0.0</td>\n",
              "      <td>4</td>\n",
              "    </tr>\n",
              "    <tr>\n",
              "      <th>4</th>\n",
              "      <td>Structural design software and version</td>\n",
              "      <td>Ultimate Strength Design</td>\n",
              "      <td>STAAD Pro V8</td>\n",
              "      <td>0.000000</td>\n",
              "      <td>0.000000</td>\n",
              "      <td>0.0</td>\n",
              "      <td>1</td>\n",
              "    </tr>\n",
              "    <tr>\n",
              "      <th>5</th>\n",
              "      <td>Structural design software and version</td>\n",
              "      <td>BS 8102 Code</td>\n",
              "      <td>STAAD Pro V8</td>\n",
              "      <td>0.000000</td>\n",
              "      <td>0.000000</td>\n",
              "      <td>0.0</td>\n",
              "      <td>2</td>\n",
              "    </tr>\n",
              "    <tr>\n",
              "      <th>6</th>\n",
              "      <td>Structural design software and version</td>\n",
              "      <td>Ultimate Strength Design</td>\n",
              "      <td>STAAD Pro V8</td>\n",
              "      <td>0.000000</td>\n",
              "      <td>0.000000</td>\n",
              "      <td>0.0</td>\n",
              "      <td>3</td>\n",
              "    </tr>\n",
              "    <tr>\n",
              "      <th>7</th>\n",
              "      <td>Structural design software and version</td>\n",
              "      <td>in house developed worksheets</td>\n",
              "      <td>STAAD Pro V8</td>\n",
              "      <td>0.000000</td>\n",
              "      <td>-0.333333</td>\n",
              "      <td>0.0</td>\n",
              "      <td>4</td>\n",
              "    </tr>\n",
              "    <tr>\n",
              "      <th>8</th>\n",
              "      <td>Structural design life</td>\n",
              "      <td>foundations</td>\n",
              "      <td>30 years</td>\n",
              "      <td>0.000000</td>\n",
              "      <td>0.000000</td>\n",
              "      <td>0.0</td>\n",
              "      <td>1</td>\n",
              "    </tr>\n",
              "    <tr>\n",
              "      <th>9</th>\n",
              "      <td>Structural design life</td>\n",
              "      <td>Ultimate Strength Design</td>\n",
              "      <td>30 years</td>\n",
              "      <td>0.000000</td>\n",
              "      <td>-0.500000</td>\n",
              "      <td>0.0</td>\n",
              "      <td>2</td>\n",
              "    </tr>\n",
              "    <tr>\n",
              "      <th>10</th>\n",
              "      <td>Structural design life</td>\n",
              "      <td>Design life of 30 years 6</td>\n",
              "      <td>30 years</td>\n",
              "      <td>0.632456</td>\n",
              "      <td>-1.000000</td>\n",
              "      <td>0.5</td>\n",
              "      <td>3</td>\n",
              "    </tr>\n",
              "    <tr>\n",
              "      <th>11</th>\n",
              "      <td>Structural design life</td>\n",
              "      <td>Design life of 30 years 6</td>\n",
              "      <td>30 years</td>\n",
              "      <td>0.632456</td>\n",
              "      <td>-1.000000</td>\n",
              "      <td>0.5</td>\n",
              "      <td>4</td>\n",
              "    </tr>\n",
              "    <tr>\n",
              "      <th>12</th>\n",
              "      <td>Basic wind speed</td>\n",
              "      <td>Non Building Structures</td>\n",
              "      <td>55ms</td>\n",
              "      <td>0.000000</td>\n",
              "      <td>-2.000000</td>\n",
              "      <td>0.0</td>\n",
              "      <td>1</td>\n",
              "    </tr>\n",
              "    <tr>\n",
              "      <th>13</th>\n",
              "      <td>Basic wind speed</td>\n",
              "      <td>Non Building Structures</td>\n",
              "      <td>55ms</td>\n",
              "      <td>0.000000</td>\n",
              "      <td>-2.000000</td>\n",
              "      <td>0.0</td>\n",
              "      <td>2</td>\n",
              "    </tr>\n",
              "    <tr>\n",
              "      <th>14</th>\n",
              "      <td>Basic wind speed</td>\n",
              "      <td>120 of operating speed</td>\n",
              "      <td>55ms</td>\n",
              "      <td>0.000000</td>\n",
              "      <td>-3.000000</td>\n",
              "      <td>0.0</td>\n",
              "      <td>3</td>\n",
              "    </tr>\n",
              "    <tr>\n",
              "      <th>15</th>\n",
              "      <td>Basic wind speed</td>\n",
              "      <td>pump when coupled to its driver</td>\n",
              "      <td>55ms</td>\n",
              "      <td>0.000000</td>\n",
              "      <td>-5.000000</td>\n",
              "      <td>0.0</td>\n",
              "      <td>4</td>\n",
              "    </tr>\n",
              "    <tr>\n",
              "      <th>16</th>\n",
              "      <td>period of basic wind speed</td>\n",
              "      <td>m/s</td>\n",
              "      <td>3 sec gust</td>\n",
              "      <td>0.000000</td>\n",
              "      <td>0.000000</td>\n",
              "      <td>0.0</td>\n",
              "      <td>1</td>\n",
              "    </tr>\n",
              "    <tr>\n",
              "      <th>17</th>\n",
              "      <td>period of basic wind speed</td>\n",
              "      <td>m/s</td>\n",
              "      <td>3 sec gust</td>\n",
              "      <td>0.000000</td>\n",
              "      <td>0.000000</td>\n",
              "      <td>0.0</td>\n",
              "      <td>2</td>\n",
              "    </tr>\n",
              "    <tr>\n",
              "      <th>18</th>\n",
              "      <td>period of basic wind speed</td>\n",
              "      <td>Full load rejection tests to measure transient...</td>\n",
              "      <td>3 sec gust</td>\n",
              "      <td>0.000000</td>\n",
              "      <td>-2.000000</td>\n",
              "      <td>0.0</td>\n",
              "      <td>3</td>\n",
              "    </tr>\n",
              "    <tr>\n",
              "      <th>19</th>\n",
              "      <td>period of basic wind speed</td>\n",
              "      <td>quick opening time</td>\n",
              "      <td>3 sec gust</td>\n",
              "      <td>0.000000</td>\n",
              "      <td>0.000000</td>\n",
              "      <td>0.0</td>\n",
              "      <td>4</td>\n",
              "    </tr>\n",
              "  </tbody>\n",
              "</table>\n",
              "</div>"
            ],
            "text/plain": [
              "                                User Query  ... predicted_ans_index\n",
              "0           Design load calculation method  ...                   1\n",
              "1           Design load calculation method  ...                   2\n",
              "2           Design load calculation method  ...                   3\n",
              "3           Design load calculation method  ...                   4\n",
              "4   Structural design software and version  ...                   1\n",
              "5   Structural design software and version  ...                   2\n",
              "6   Structural design software and version  ...                   3\n",
              "7   Structural design software and version  ...                   4\n",
              "8                   Structural design life  ...                   1\n",
              "9                   Structural design life  ...                   2\n",
              "10                  Structural design life  ...                   3\n",
              "11                  Structural design life  ...                   4\n",
              "12                        Basic wind speed  ...                   1\n",
              "13                        Basic wind speed  ...                   2\n",
              "14                        Basic wind speed  ...                   3\n",
              "15                        Basic wind speed  ...                   4\n",
              "16              period of basic wind speed  ...                   1\n",
              "17              period of basic wind speed  ...                   2\n",
              "18              period of basic wind speed  ...                   3\n",
              "19              period of basic wind speed  ...                   4\n",
              "\n",
              "[20 rows x 7 columns]"
            ]
          },
          "metadata": {},
          "execution_count": 36
        }
      ]
    },
    {
      "cell_type": "code",
      "metadata": {
        "id": "HGg_6XDlelN4"
      },
      "source": [
        "final_df = final_df[['User Query','Bert Similarity','Bert Similarity','original_answers','predicted_ans_index','cosine_result','wer_result','F1Score_result']]"
      ],
      "execution_count": 37,
      "outputs": []
    },
    {
      "cell_type": "code",
      "metadata": {
        "colab": {
          "base_uri": "https://localhost:8080/",
          "height": 495
        },
        "id": "7QPJ_ohahesT",
        "outputId": "6e25dd24-375f-4983-e08c-8da2312e9b9a"
      },
      "source": [
        "final_df.head(10)"
      ],
      "execution_count": 38,
      "outputs": [
        {
          "output_type": "execute_result",
          "data": {
            "text/html": [
              "<div>\n",
              "<style scoped>\n",
              "    .dataframe tbody tr th:only-of-type {\n",
              "        vertical-align: middle;\n",
              "    }\n",
              "\n",
              "    .dataframe tbody tr th {\n",
              "        vertical-align: top;\n",
              "    }\n",
              "\n",
              "    .dataframe thead th {\n",
              "        text-align: right;\n",
              "    }\n",
              "</style>\n",
              "<table border=\"1\" class=\"dataframe\">\n",
              "  <thead>\n",
              "    <tr style=\"text-align: right;\">\n",
              "      <th></th>\n",
              "      <th>User Query</th>\n",
              "      <th>Bert Similarity</th>\n",
              "      <th>Bert Similarity</th>\n",
              "      <th>original_answers</th>\n",
              "      <th>predicted_ans_index</th>\n",
              "      <th>cosine_result</th>\n",
              "      <th>wer_result</th>\n",
              "      <th>F1Score_result</th>\n",
              "    </tr>\n",
              "  </thead>\n",
              "  <tbody>\n",
              "    <tr>\n",
              "      <th>0</th>\n",
              "      <td>Design load calculation method</td>\n",
              "      <td>load combination</td>\n",
              "      <td>load combination</td>\n",
              "      <td>ASCE/SEI 7-05</td>\n",
              "      <td>1</td>\n",
              "      <td>0.0</td>\n",
              "      <td>0.000000</td>\n",
              "      <td>0.0</td>\n",
              "    </tr>\n",
              "    <tr>\n",
              "      <th>1</th>\n",
              "      <td>Design load calculation method</td>\n",
              "      <td>load combination</td>\n",
              "      <td>load combination</td>\n",
              "      <td>ASCE/SEI 7-05</td>\n",
              "      <td>2</td>\n",
              "      <td>0.0</td>\n",
              "      <td>0.000000</td>\n",
              "      <td>0.0</td>\n",
              "    </tr>\n",
              "    <tr>\n",
              "      <th>2</th>\n",
              "      <td>Design load calculation method</td>\n",
              "      <td>structural calculation with seismic load calcu...</td>\n",
              "      <td>structural calculation with seismic load calcu...</td>\n",
              "      <td>ASCE/SEI 7-05</td>\n",
              "      <td>3</td>\n",
              "      <td>0.0</td>\n",
              "      <td>-2.000000</td>\n",
              "      <td>0.0</td>\n",
              "    </tr>\n",
              "    <tr>\n",
              "      <th>3</th>\n",
              "      <td>Design load calculation method</td>\n",
              "      <td>strength and stresses</td>\n",
              "      <td>strength and stresses</td>\n",
              "      <td>ASCE/SEI 7-05</td>\n",
              "      <td>4</td>\n",
              "      <td>0.0</td>\n",
              "      <td>-0.500000</td>\n",
              "      <td>0.0</td>\n",
              "    </tr>\n",
              "    <tr>\n",
              "      <th>4</th>\n",
              "      <td>Structural design software and version</td>\n",
              "      <td>Ultimate Strength Design</td>\n",
              "      <td>Ultimate Strength Design</td>\n",
              "      <td>STAAD Pro V8</td>\n",
              "      <td>1</td>\n",
              "      <td>0.0</td>\n",
              "      <td>0.000000</td>\n",
              "      <td>0.0</td>\n",
              "    </tr>\n",
              "    <tr>\n",
              "      <th>5</th>\n",
              "      <td>Structural design software and version</td>\n",
              "      <td>BS 8102 Code</td>\n",
              "      <td>BS 8102 Code</td>\n",
              "      <td>STAAD Pro V8</td>\n",
              "      <td>2</td>\n",
              "      <td>0.0</td>\n",
              "      <td>0.000000</td>\n",
              "      <td>0.0</td>\n",
              "    </tr>\n",
              "    <tr>\n",
              "      <th>6</th>\n",
              "      <td>Structural design software and version</td>\n",
              "      <td>Ultimate Strength Design</td>\n",
              "      <td>Ultimate Strength Design</td>\n",
              "      <td>STAAD Pro V8</td>\n",
              "      <td>3</td>\n",
              "      <td>0.0</td>\n",
              "      <td>0.000000</td>\n",
              "      <td>0.0</td>\n",
              "    </tr>\n",
              "    <tr>\n",
              "      <th>7</th>\n",
              "      <td>Structural design software and version</td>\n",
              "      <td>in house developed worksheets</td>\n",
              "      <td>in house developed worksheets</td>\n",
              "      <td>STAAD Pro V8</td>\n",
              "      <td>4</td>\n",
              "      <td>0.0</td>\n",
              "      <td>-0.333333</td>\n",
              "      <td>0.0</td>\n",
              "    </tr>\n",
              "    <tr>\n",
              "      <th>8</th>\n",
              "      <td>Structural design life</td>\n",
              "      <td>foundations</td>\n",
              "      <td>foundations</td>\n",
              "      <td>30 years</td>\n",
              "      <td>1</td>\n",
              "      <td>0.0</td>\n",
              "      <td>0.000000</td>\n",
              "      <td>0.0</td>\n",
              "    </tr>\n",
              "    <tr>\n",
              "      <th>9</th>\n",
              "      <td>Structural design life</td>\n",
              "      <td>Ultimate Strength Design</td>\n",
              "      <td>Ultimate Strength Design</td>\n",
              "      <td>30 years</td>\n",
              "      <td>2</td>\n",
              "      <td>0.0</td>\n",
              "      <td>-0.500000</td>\n",
              "      <td>0.0</td>\n",
              "    </tr>\n",
              "  </tbody>\n",
              "</table>\n",
              "</div>"
            ],
            "text/plain": [
              "                               User Query  ... F1Score_result\n",
              "0          Design load calculation method  ...            0.0\n",
              "1          Design load calculation method  ...            0.0\n",
              "2          Design load calculation method  ...            0.0\n",
              "3          Design load calculation method  ...            0.0\n",
              "4  Structural design software and version  ...            0.0\n",
              "5  Structural design software and version  ...            0.0\n",
              "6  Structural design software and version  ...            0.0\n",
              "7  Structural design software and version  ...            0.0\n",
              "8                  Structural design life  ...            0.0\n",
              "9                  Structural design life  ...            0.0\n",
              "\n",
              "[10 rows x 8 columns]"
            ]
          },
          "metadata": {},
          "execution_count": 38
        }
      ]
    }
  ]
}