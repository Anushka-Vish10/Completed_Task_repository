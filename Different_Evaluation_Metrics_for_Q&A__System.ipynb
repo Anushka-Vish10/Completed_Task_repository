{
  "nbformat": 4,
  "nbformat_minor": 0,
  "metadata": {
    "colab": {
      "name": "Different_Evaluation_Metrics_for_Q&A__System.ipynb",
      "provenance": []
    },
    "kernelspec": {
      "name": "python3",
      "display_name": "Python 3"
    },
    "language_info": {
      "name": "python"
    }
  },
  "cells": [
    {
      "cell_type": "code",
      "metadata": {
        "colab": {
          "base_uri": "https://localhost:8080/"
        },
        "id": "liVdzk0JkM_Q",
        "outputId": "21d5f7f2-d0ad-4572-e0c4-615b3177b75b"
      },
      "source": [
        "! pip install jiwer"
      ],
      "execution_count": 10,
      "outputs": [
        {
          "output_type": "stream",
          "name": "stdout",
          "text": [
            "Requirement already satisfied: jiwer in /usr/local/lib/python3.7/dist-packages (2.2.1)\n",
            "Requirement already satisfied: python-Levenshtein==0.12.2 in /usr/local/lib/python3.7/dist-packages (from jiwer) (0.12.2)\n",
            "Requirement already satisfied: setuptools in /usr/local/lib/python3.7/dist-packages (from python-Levenshtein==0.12.2->jiwer) (57.4.0)\n"
          ]
        }
      ]
    },
    {
      "cell_type": "code",
      "metadata": {
        "id": "IdpGl8IFajgQ"
      },
      "source": [
        "from difflib import SequenceMatcher\n",
        "from sklearn.feature_extraction.text import CountVectorizer\n",
        "from sklearn.metrics.pairwise import cosine_similarity\n",
        "from sklearn.metrics import f1_score\n",
        "from nltk.translate.bleu_score import sentence_bleu\n",
        "from jiwer import wer"
      ],
      "execution_count": 11,
      "outputs": []
    },
    {
      "cell_type": "markdown",
      "metadata": {
        "id": "lnIH3M4NhO02"
      },
      "source": [
        "# Cosine Similarity"
      ]
    },
    {
      "cell_type": "markdown",
      "metadata": {
        "id": "TWz7Ef1y6yLO"
      },
      "source": [
        "1. Cosine similarity is a metric used to determine how similar the documents are irrespective of their size\n",
        "\n",
        "2. It measures the cosine of the angle between two vectors projected in a multi-dimensional space\n",
        "3.The two vectors are arrays containing the word counts of two documents.\n",
        "4. Lower the angle means higher the similarity\n",
        "\n",
        "\n"
      ]
    },
    {
      "cell_type": "code",
      "metadata": {
        "id": "V8pNNDVdhN_p"
      },
      "source": [
        "def cosine(answer, prediction):\n",
        "  '''\n",
        "  input : actual answer, and predicted answer\n",
        "  output: cosine similarity value\n",
        "\n",
        "  '''\n",
        "  cv = CountVectorizer(max_features=500)\n",
        "  answers = [answer, prediction]\n",
        "  vectors = cv.fit_transform(answers).toarray()\n",
        "  similarity = cosine_similarity(vectors)\n",
        "  return similarity[1][0]"
      ],
      "execution_count": 12,
      "outputs": []
    },
    {
      "cell_type": "code",
      "metadata": {
        "colab": {
          "base_uri": "https://localhost:8080/"
        },
        "id": "5xXCZNXjiGRs",
        "outputId": "9e0eb23a-f20a-4567-8077-3b9a79b3d4d6"
      },
      "source": [
        "answer1 = 'specification for Ultimate Strength'\n",
        "prediction1 = 'sizing calculation structural'\n",
        "cosine(answer1, prediction1)"
      ],
      "execution_count": 13,
      "outputs": [
        {
          "output_type": "execute_result",
          "data": {
            "text/plain": [
              "0.0"
            ]
          },
          "metadata": {},
          "execution_count": 13
        }
      ]
    },
    {
      "cell_type": "code",
      "metadata": {
        "colab": {
          "base_uri": "https://localhost:8080/"
        },
        "id": "bLeTkon1kYHu",
        "outputId": "f9a560ef-8dc5-44e8-9c88-4e977bf14f8b"
      },
      "source": [
        "answer2 = 'AIC318M 08'\n",
        "prediction2 = ' AIC318M 08'\n",
        "cosine(answer2, prediction2)"
      ],
      "execution_count": 14,
      "outputs": [
        {
          "output_type": "execute_result",
          "data": {
            "text/plain": [
              "0.9999999999999998"
            ]
          },
          "metadata": {},
          "execution_count": 14
        }
      ]
    },
    {
      "cell_type": "code",
      "metadata": {
        "colab": {
          "base_uri": "https://localhost:8080/"
        },
        "id": "J8yCZ0LGiRgV",
        "outputId": "2b0f1374-0171-4f86-9691-0460bace583b"
      },
      "source": [
        "answer3 = '30 years'\n",
        "prediction3 = 'Design life of 30 years 6'\n",
        "cosine(answer3, prediction3)"
      ],
      "execution_count": 15,
      "outputs": [
        {
          "output_type": "execute_result",
          "data": {
            "text/plain": [
              "0.6324555320336758"
            ]
          },
          "metadata": {},
          "execution_count": 15
        }
      ]
    },
    {
      "cell_type": "code",
      "metadata": {
        "colab": {
          "base_uri": "https://localhost:8080/"
        },
        "id": "qj-qdyE2mfdR",
        "outputId": "f1456487-0beb-4112-8631-cffd29fcd1c5"
      },
      "source": [
        "answer4 = '1Kzt'\n",
        "prediction4 = 'Kzt 1 0'\n",
        "cosine(answer4, prediction4)"
      ],
      "execution_count": 16,
      "outputs": [
        {
          "output_type": "execute_result",
          "data": {
            "text/plain": [
              "0.0"
            ]
          },
          "metadata": {},
          "execution_count": 16
        }
      ]
    },
    {
      "cell_type": "markdown",
      "metadata": {
        "id": "6t5dv5_acHSv"
      },
      "source": [
        "# Sequence Matcher "
      ]
    },
    {
      "cell_type": "markdown",
      "metadata": {
        "id": "Y7kgFXRsEDKs"
      },
      "source": [
        "1.  It is  used for comparing pairs of input sequences.\n",
        "2. The basic idea is to find the longest contiguous matching subsequence.\n",
        "3. SequenceMatcher tries to find out the output which is more human-friendly.\n",
        "4. Working : Given two input strings a and b,\n",
        "> a. ratio( ) returns the similarity score ( float in [0,1] ) between input strings\n",
        "\n",
        ">>   b. It sums the sizes of all matched sequences\n",
        "\n",
        ">>   c. calculates the ratio as: ratio = 2.0*M / T \n",
        "\n",
        ">>  d. where M = matches , T = total number of elements in both sequences"
      ]
    },
    {
      "cell_type": "code",
      "metadata": {
        "id": "5OcYwElza_rx"
      },
      "source": [
        "def sequence_matcher(answer, prediction):\n",
        "  \n",
        "  ratio = SequenceMatcher(None, answer, prediction).ratio()\n",
        "  return ratio\n",
        "  "
      ],
      "execution_count": 17,
      "outputs": []
    },
    {
      "cell_type": "code",
      "metadata": {
        "colab": {
          "base_uri": "https://localhost:8080/"
        },
        "id": "a3PWbJPtbWjs",
        "outputId": "d1547c37-6d6c-47c6-ae35-2eb8501fc6da"
      },
      "source": [
        "answer1 = 'specification for Ultimate Strength'\n",
        "prediction1 = 'sizing calculation structural'\n",
        "sequence_matcher(answer1, prediction1)"
      ],
      "execution_count": 18,
      "outputs": [
        {
          "output_type": "execute_result",
          "data": {
            "text/plain": [
              "0.375"
            ]
          },
          "metadata": {},
          "execution_count": 18
        }
      ]
    },
    {
      "cell_type": "code",
      "metadata": {
        "colab": {
          "base_uri": "https://localhost:8080/"
        },
        "id": "UtK3ac3ce_Z_",
        "outputId": "b8781fc7-76da-4e2e-cdae-4af84a1564e9"
      },
      "source": [
        "answer2 = 'AIC318M 08'\n",
        "prediction2 = ' AIC318M 08'\n",
        "sequence_matcher(answer2, prediction2)"
      ],
      "execution_count": 19,
      "outputs": [
        {
          "output_type": "execute_result",
          "data": {
            "text/plain": [
              "0.9523809523809523"
            ]
          },
          "metadata": {},
          "execution_count": 19
        }
      ]
    },
    {
      "cell_type": "code",
      "metadata": {
        "colab": {
          "base_uri": "https://localhost:8080/"
        },
        "id": "zX7S-f2TnUDC",
        "outputId": "ab10f8fc-ed7a-46b5-dc3e-11497c065849"
      },
      "source": [
        "answer3 = '30 years'\n",
        "prediction3 = 'Design life of 30 years 6'\n",
        "sequence_matcher(answer3, prediction3)"
      ],
      "execution_count": 20,
      "outputs": [
        {
          "output_type": "execute_result",
          "data": {
            "text/plain": [
              "0.48484848484848486"
            ]
          },
          "metadata": {},
          "execution_count": 20
        }
      ]
    },
    {
      "cell_type": "code",
      "metadata": {
        "colab": {
          "base_uri": "https://localhost:8080/"
        },
        "id": "XatdWoKFnXh0",
        "outputId": "9a2fbd99-2995-49d5-9a83-c043d399b8a3"
      },
      "source": [
        "answer4 = '1Kzt'\n",
        "prediction4 = 'Kzt 1 0'\n",
        "sequence_matcher(answer4, prediction4)"
      ],
      "execution_count": 21,
      "outputs": [
        {
          "output_type": "execute_result",
          "data": {
            "text/plain": [
              "0.5454545454545454"
            ]
          },
          "metadata": {},
          "execution_count": 21
        }
      ]
    },
    {
      "cell_type": "markdown",
      "metadata": {
        "id": "3ie3Mvfjntv3"
      },
      "source": [
        "# F1 Score"
      ]
    },
    {
      "cell_type": "markdown",
      "metadata": {
        "id": "hOdXR7STXKxt"
      },
      "source": [
        "1. **F1-score** is primarily used to compare the performance of two classifiers.\n",
        "2. F1-score calculated as follows:\n",
        ">>                      2(P*R)/P+R\n",
        "\n",
        "\n",
        ">> P = the precision\n",
        "\n",
        ">> R = the recall "
      ]
    },
    {
      "cell_type": "code",
      "metadata": {
        "id": "IpqXmZhXbiof"
      },
      "source": [
        "def f1_score(answer, prediction):\n",
        "\n",
        "  '''\n",
        "    input: actuall answer, predicted answer'\n",
        "    output: F1 Score\n",
        "  '''\n",
        "\n",
        "  \n",
        "  answer_tokens = answer.split()\n",
        "  prediction_tokens = prediction.split()\n",
        "  if len(prediction_tokens) == 0 or len(answer_tokens)==0:\n",
        "    fi_pred = (int(prediction_tokens == answer_tokens))\n",
        "    \n",
        "  common_tokens = set(prediction_tokens) & set(answer_tokens)\n",
        "  if len(common_tokens) == 0:\n",
        "    fi_pred = 0 \n",
        "    \n",
        "  else:\n",
        "    precision = len(common_tokens) / len(prediction_tokens)\n",
        "    recall = len(common_tokens) / len(answer_tokens)\n",
        "    fi_pred = (2 * (precision * recall) / (precision + recall))\n",
        "  return fi_pred\n"
      ],
      "execution_count": 98,
      "outputs": []
    },
    {
      "cell_type": "code",
      "metadata": {
        "colab": {
          "base_uri": "https://localhost:8080/"
        },
        "id": "cWqIGUcYoIWf",
        "outputId": "21ad53bd-d1a4-46f0-ac73-9d8d126b6a7a"
      },
      "source": [
        "answer1 = 'specification for Ultimate Strength'\n",
        "prediction1 = 'sizing calculation structural'\n",
        "f1_score(answer1, prediction2)\n"
      ],
      "execution_count": 99,
      "outputs": [
        {
          "output_type": "execute_result",
          "data": {
            "text/plain": [
              "0"
            ]
          },
          "metadata": {},
          "execution_count": 99
        }
      ]
    },
    {
      "cell_type": "code",
      "metadata": {
        "colab": {
          "base_uri": "https://localhost:8080/"
        },
        "id": "kuT2iBAMoId4",
        "outputId": "c7dacbdd-0031-4f84-9e2f-f0c7e8882b39"
      },
      "source": [
        "answer2 = 'AIC318M 08'\n",
        "prediction2 = ' AIC318M 08'\n",
        "f1_score(answer2, prediction2)"
      ],
      "execution_count": 100,
      "outputs": [
        {
          "output_type": "execute_result",
          "data": {
            "text/plain": [
              "1.0"
            ]
          },
          "metadata": {},
          "execution_count": 100
        }
      ]
    },
    {
      "cell_type": "code",
      "metadata": {
        "colab": {
          "base_uri": "https://localhost:8080/"
        },
        "id": "_SglEUb9oIjs",
        "outputId": "83848c64-2fc7-43c1-fbf4-3ad1a990e1a1"
      },
      "source": [
        "answer3 = '30 years'\n",
        "prediction3 = 'Design life of 30 years 6'\n",
        "f1_score(answer3, prediction3)"
      ],
      "execution_count": 101,
      "outputs": [
        {
          "output_type": "execute_result",
          "data": {
            "text/plain": [
              "0.5"
            ]
          },
          "metadata": {},
          "execution_count": 101
        }
      ]
    },
    {
      "cell_type": "code",
      "metadata": {
        "colab": {
          "base_uri": "https://localhost:8080/"
        },
        "id": "N-LFCVeyoIox",
        "outputId": "19c44bfa-670e-4c0d-e42b-d47447c02e03"
      },
      "source": [
        "answer4 = '1Kzt'\n",
        "prediction4 = 'Kzt 1 0'\n",
        "f1_score(answer4, prediction4)"
      ],
      "execution_count": 102,
      "outputs": [
        {
          "output_type": "execute_result",
          "data": {
            "text/plain": [
              "0"
            ]
          },
          "metadata": {},
          "execution_count": 102
        }
      ]
    },
    {
      "cell_type": "markdown",
      "metadata": {
        "id": "rPiw-2AOostP"
      },
      "source": [
        "# Word Error Rate"
      ]
    },
    {
      "cell_type": "markdown",
      "metadata": {
        "id": "hNBffe5bJE6B"
      },
      "source": [
        "1. WER is the number of errors divided by the total words.\n",
        "2. To get the WER, start by adding up the substitutions, insertions, and deletions that occur in a sequence of recognized words. Divide that number by the total number of words in original document. The result is the WER\n",
        "3. Word Error Rate = (Substitutions + Insertions + Deletions) / Number of Words Spoken\n",
        ">>**Substitution**: occurs when a word gets replaced (for example, “noose” is transcribed as “moose”)\n",
        "\n",
        ">>>   **Insertion**:  when a word is added that wasn’t in actual document (for example, “SAT” becomes “essay tea”)\n",
        "\n",
        ">>> **Deletion** happens when a word is left out from the predicted context completely (for example, “turn it around” becomes “turn around”)\n",
        "4. Lower WER often indicates that prediction is more accurate."
      ]
    },
    {
      "cell_type": "code",
      "metadata": {
        "id": "yLElWwP1oxBb"
      },
      "source": [
        "def word_error_rate(answer, prediction):\n",
        "\n",
        "  '''\n",
        "  input : actual answer, predicted answer\n",
        "  output : \n",
        "  \n",
        "  '''\n",
        "  \n",
        "  similarity = 1 - wer(answer, prediction)\n",
        "  return similarity"
      ],
      "execution_count": 27,
      "outputs": []
    },
    {
      "cell_type": "code",
      "metadata": {
        "colab": {
          "base_uri": "https://localhost:8080/"
        },
        "id": "a38UnkxxpB5M",
        "outputId": "21280ddb-e9c4-46c9-aa86-0267c2a49d1c"
      },
      "source": [
        "answer1 = 'specification for Ultimate Strength'\n",
        "prediction1 = 'sizing calculation structural'\n",
        "word_error_rate(answer1, prediction1)"
      ],
      "execution_count": 28,
      "outputs": [
        {
          "output_type": "execute_result",
          "data": {
            "text/plain": [
              "0.0"
            ]
          },
          "metadata": {},
          "execution_count": 28
        }
      ]
    },
    {
      "cell_type": "code",
      "metadata": {
        "colab": {
          "base_uri": "https://localhost:8080/"
        },
        "id": "Rc2NZcP4pB-9",
        "outputId": "0894ad9a-e677-4619-d30a-373fc0a17809"
      },
      "source": [
        "answer2 = 'AIC318M 08'\n",
        "prediction2 = ' AIC318M 08'\n",
        "word_error_rate(answer2, prediction2)"
      ],
      "execution_count": 29,
      "outputs": [
        {
          "output_type": "execute_result",
          "data": {
            "text/plain": [
              "1.0"
            ]
          },
          "metadata": {},
          "execution_count": 29
        }
      ]
    },
    {
      "cell_type": "code",
      "metadata": {
        "colab": {
          "base_uri": "https://localhost:8080/"
        },
        "id": "PBxXyY4opCEr",
        "outputId": "8bc111df-8f61-4d7d-aed1-326f5b755e02"
      },
      "source": [
        "answer3 = '30 years'\n",
        "prediction3 = 'Design life of 30 years 6'\n",
        "word_error_rate(answer3, prediction3)"
      ],
      "execution_count": 30,
      "outputs": [
        {
          "output_type": "execute_result",
          "data": {
            "text/plain": [
              "-1.0"
            ]
          },
          "metadata": {},
          "execution_count": 30
        }
      ]
    },
    {
      "cell_type": "code",
      "metadata": {
        "colab": {
          "base_uri": "https://localhost:8080/"
        },
        "id": "fufaO7TepCJ4",
        "outputId": "f2017a3a-d0a7-48b2-c953-bc0a1064e538"
      },
      "source": [
        "answer4 = '1Kzt'\n",
        "prediction4 = 'Kzt 1 0'\n",
        "word_error_rate(answer4, prediction4)"
      ],
      "execution_count": 31,
      "outputs": [
        {
          "output_type": "execute_result",
          "data": {
            "text/plain": [
              "-2.0"
            ]
          },
          "metadata": {},
          "execution_count": 31
        }
      ]
    },
    {
      "cell_type": "markdown",
      "metadata": {
        "id": "-BUId-7UcQEv"
      },
      "source": [
        "# BLEU Score"
      ]
    },
    {
      "cell_type": "markdown",
      "metadata": {
        "id": "gItbicOJoWIJ"
      },
      "source": [
        "1. The approach works by counting matching n-grams in the candidate translation to n-grams in the reference text\n",
        "2.  where 1-gram or unigram would be each token and a bigram comparison would be each word pair. The comparison is made regardless of word order.\n",
        "3. Indicates how similar the candidate text is to the reference texts, with values closer to one representing more similar texts.\n",
        "4. BLEU compares the n-gram of the candidate translation with n-gram of the reference translation to count the number of matches"
      ]
    },
    {
      "cell_type": "code",
      "metadata": {
        "id": "Ljp0vPM6Z7Ho"
      },
      "source": [
        "def bleuScore(answer, prediction):\n",
        "\n",
        "  score = sentence_bleu(answer, prediction, weights = (0.5, 0.5))\n",
        "  return score\n",
        "\n"
      ],
      "execution_count": 80,
      "outputs": []
    },
    {
      "cell_type": "code",
      "metadata": {
        "colab": {
          "base_uri": "https://localhost:8080/"
        },
        "id": "ZOunkZzebVDH",
        "outputId": "26e59fbb-7c13-4b46-e5d1-47f42193b2bd"
      },
      "source": [
        "answer1 = 'specification for Ultimate Strength'\n",
        "prediction1 = 'sizing calculation structural'\n",
        "bleuScore(answer1, prediction1)"
      ],
      "execution_count": 81,
      "outputs": [
        {
          "output_type": "stream",
          "name": "stderr",
          "text": [
            "/usr/local/lib/python3.7/dist-packages/nltk/translate/bleu_score.py:490: UserWarning: \n",
            "Corpus/Sentence contains 0 counts of 2-gram overlaps.\n",
            "BLEU scores might be undesirable; use SmoothingFunction().\n",
            "  warnings.warn(_msg)\n"
          ]
        },
        {
          "output_type": "execute_result",
          "data": {
            "text/plain": [
              "0.6158817620514396"
            ]
          },
          "metadata": {},
          "execution_count": 81
        }
      ]
    },
    {
      "cell_type": "code",
      "metadata": {
        "colab": {
          "base_uri": "https://localhost:8080/"
        },
        "id": "s8tbpfONbtAk",
        "outputId": "f608773b-94ec-4da3-a57f-438d35e30294"
      },
      "source": [
        "answer2 = 'AIC318M 08'\n",
        "prediction2 = 'AIC318M 08'\n",
        "bleuScore(answer2, prediction2)"
      ],
      "execution_count": 82,
      "outputs": [
        {
          "output_type": "stream",
          "name": "stderr",
          "text": [
            "/usr/local/lib/python3.7/dist-packages/nltk/translate/bleu_score.py:490: UserWarning: \n",
            "Corpus/Sentence contains 0 counts of 2-gram overlaps.\n",
            "BLEU scores might be undesirable; use SmoothingFunction().\n",
            "  warnings.warn(_msg)\n"
          ]
        },
        {
          "output_type": "execute_result",
          "data": {
            "text/plain": [
              "0.9486832980505138"
            ]
          },
          "metadata": {},
          "execution_count": 82
        }
      ]
    },
    {
      "cell_type": "code",
      "metadata": {
        "colab": {
          "base_uri": "https://localhost:8080/"
        },
        "id": "IDtt-K58btNQ",
        "outputId": "ed457b89-d28b-4e69-f1df-20a9536850b5"
      },
      "source": [
        "answer3 = '30 years'\n",
        "prediction3 = 'Design life of 30 years 6'\n",
        "bleuScore(answer3, prediction3)"
      ],
      "execution_count": 83,
      "outputs": [
        {
          "output_type": "stream",
          "name": "stderr",
          "text": [
            "/usr/local/lib/python3.7/dist-packages/nltk/translate/bleu_score.py:490: UserWarning: \n",
            "Corpus/Sentence contains 0 counts of 2-gram overlaps.\n",
            "BLEU scores might be undesirable; use SmoothingFunction().\n",
            "  warnings.warn(_msg)\n"
          ]
        },
        {
          "output_type": "execute_result",
          "data": {
            "text/plain": [
              "0.565685424949238"
            ]
          },
          "metadata": {},
          "execution_count": 83
        }
      ]
    },
    {
      "cell_type": "code",
      "metadata": {
        "colab": {
          "base_uri": "https://localhost:8080/"
        },
        "id": "ygdf4KqcbtY4",
        "outputId": "6b09077e-e703-4802-85cd-75f2cebd16c1"
      },
      "source": [
        "answer4 = '1Kzt'\n",
        "prediction4 = 'Kzt 1 0'\n",
        "bleuScore(answer4, prediction4)"
      ],
      "execution_count": 84,
      "outputs": [
        {
          "output_type": "stream",
          "name": "stderr",
          "text": [
            "/usr/local/lib/python3.7/dist-packages/nltk/translate/bleu_score.py:490: UserWarning: \n",
            "Corpus/Sentence contains 0 counts of 2-gram overlaps.\n",
            "BLEU scores might be undesirable; use SmoothingFunction().\n",
            "  warnings.warn(_msg)\n"
          ]
        },
        {
          "output_type": "execute_result",
          "data": {
            "text/plain": [
              "0.7559289460184544"
            ]
          },
          "metadata": {},
          "execution_count": 84
        }
      ]
    },
    {
      "cell_type": "markdown",
      "metadata": {
        "id": "b2oPrF11yYQT"
      },
      "source": [
        "# Comparison over results"
      ]
    },
    {
      "cell_type": "code",
      "metadata": {
        "id": "-YcVUrgQcgvc"
      },
      "source": [
        "answer_list = ['specification for Ultimate Strength','AIC318M 08','30 years', '1Kzt']\n",
        "predicted_list = ['sizing calculation structural' , ' AIC318M 08', 'Design life of 30 years 6', 'Kzt 1 0 ']\n",
        "Consine_similarity = [0.0,0.99, 0.63, 0.0]\n",
        "Sequence_matcher = [0.37, 0.95, 0.48, 0.54]\n",
        "F1_Score = [0.0, 1.0, 0.5, 0.0]\n",
        "wer_score = [0.0, 1.0, -1.0, -2.0]\n",
        "bleu_score = [0.61, 0.94, 0.56, 0.75]"
      ],
      "execution_count": 89,
      "outputs": []
    },
    {
      "cell_type": "code",
      "metadata": {
        "id": "g6kb_y5Wiz2g"
      },
      "source": [
        "import pandas as pd"
      ],
      "execution_count": 90,
      "outputs": []
    },
    {
      "cell_type": "code",
      "metadata": {
        "id": "ylbvnaQrjAlN"
      },
      "source": [
        "df = pd.DataFrame(list(zip(answer_list, predicted_list, Consine_similarity, Sequence_matcher, F1_Score, wer_score, bleu_score )),\n",
        "               columns =['actual_answer', 'predicted_answer', 'consine_similarity', 'sequence_matcher', 'F1_score', \"wer_score\", 'bleu_score'])\n"
      ],
      "execution_count": 96,
      "outputs": []
    },
    {
      "cell_type": "code",
      "metadata": {
        "colab": {
          "base_uri": "https://localhost:8080/",
          "height": 173
        },
        "id": "4hl8um44yWJU",
        "outputId": "f1d33a92-195c-4e60-a989-4b59a8a00739"
      },
      "source": [
        "df.head()\n"
      ],
      "execution_count": 97,
      "outputs": [
        {
          "output_type": "execute_result",
          "data": {
            "text/html": [
              "<div>\n",
              "<style scoped>\n",
              "    .dataframe tbody tr th:only-of-type {\n",
              "        vertical-align: middle;\n",
              "    }\n",
              "\n",
              "    .dataframe tbody tr th {\n",
              "        vertical-align: top;\n",
              "    }\n",
              "\n",
              "    .dataframe thead th {\n",
              "        text-align: right;\n",
              "    }\n",
              "</style>\n",
              "<table border=\"1\" class=\"dataframe\">\n",
              "  <thead>\n",
              "    <tr style=\"text-align: right;\">\n",
              "      <th></th>\n",
              "      <th>actual_answer</th>\n",
              "      <th>predicted_answer</th>\n",
              "      <th>consine_similarity</th>\n",
              "      <th>sequence_matcher</th>\n",
              "      <th>F1_score</th>\n",
              "      <th>wer_score</th>\n",
              "      <th>bleu_score</th>\n",
              "    </tr>\n",
              "  </thead>\n",
              "  <tbody>\n",
              "    <tr>\n",
              "      <th>0</th>\n",
              "      <td>specification for Ultimate Strength</td>\n",
              "      <td>sizing calculation structural</td>\n",
              "      <td>0.00</td>\n",
              "      <td>0.37</td>\n",
              "      <td>0.0</td>\n",
              "      <td>0.0</td>\n",
              "      <td>0.61</td>\n",
              "    </tr>\n",
              "    <tr>\n",
              "      <th>1</th>\n",
              "      <td>AIC318M 08</td>\n",
              "      <td>AIC318M 08</td>\n",
              "      <td>0.99</td>\n",
              "      <td>0.95</td>\n",
              "      <td>1.0</td>\n",
              "      <td>1.0</td>\n",
              "      <td>0.94</td>\n",
              "    </tr>\n",
              "    <tr>\n",
              "      <th>2</th>\n",
              "      <td>30 years</td>\n",
              "      <td>Design life of 30 years 6</td>\n",
              "      <td>0.63</td>\n",
              "      <td>0.48</td>\n",
              "      <td>0.5</td>\n",
              "      <td>-1.0</td>\n",
              "      <td>0.56</td>\n",
              "    </tr>\n",
              "    <tr>\n",
              "      <th>3</th>\n",
              "      <td>1Kzt</td>\n",
              "      <td>Kzt 1 0</td>\n",
              "      <td>0.00</td>\n",
              "      <td>0.54</td>\n",
              "      <td>0.0</td>\n",
              "      <td>-2.0</td>\n",
              "      <td>0.75</td>\n",
              "    </tr>\n",
              "  </tbody>\n",
              "</table>\n",
              "</div>"
            ],
            "text/plain": [
              "                         actual_answer  ... bleu_score\n",
              "0  specification for Ultimate Strength  ...       0.61\n",
              "1                           AIC318M 08  ...       0.94\n",
              "2                             30 years  ...       0.56\n",
              "3                                 1Kzt  ...       0.75\n",
              "\n",
              "[4 rows x 7 columns]"
            ]
          },
          "metadata": {},
          "execution_count": 97
        }
      ]
    },
    {
      "cell_type": "code",
      "metadata": {
        "id": "MozMs5VplWlR"
      },
      "source": [
        ""
      ],
      "execution_count": null,
      "outputs": []
    }
  ]
}