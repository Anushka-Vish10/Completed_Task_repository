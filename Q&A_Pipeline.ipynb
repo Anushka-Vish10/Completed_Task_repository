{
  "nbformat": 4,
  "nbformat_minor": 0,
  "metadata": {
    "colab": {
      "name": "Q&A_Pipeline.ipynb",
      "provenance": []
    },
    "kernelspec": {
      "name": "python3",
      "display_name": "Python 3"
    },
    "language_info": {
      "name": "python"
    },
    "accelerator": "GPU"
  },
  "cells": [
    {
      "cell_type": "code",
      "metadata": {
        "colab": {
          "base_uri": "https://localhost:8080/"
        },
        "id": "Gl6PPDUPfaJK",
        "outputId": "f1ad19ac-16da-4873-ffa8-d7c953ef0fb9"
      },
      "source": [
        "! pip install transformers\n",
        "! pip install jiwer"
      ],
      "execution_count": 1,
      "outputs": [
        {
          "output_type": "stream",
          "name": "stdout",
          "text": [
            "Requirement already satisfied: transformers in /usr/local/lib/python3.7/dist-packages (4.11.3)\n",
            "Requirement already satisfied: pyyaml>=5.1 in /usr/local/lib/python3.7/dist-packages (from transformers) (6.0)\n",
            "Requirement already satisfied: tokenizers<0.11,>=0.10.1 in /usr/local/lib/python3.7/dist-packages (from transformers) (0.10.3)\n",
            "Requirement already satisfied: packaging>=20.0 in /usr/local/lib/python3.7/dist-packages (from transformers) (21.0)\n",
            "Requirement already satisfied: importlib-metadata in /usr/local/lib/python3.7/dist-packages (from transformers) (4.8.1)\n",
            "Requirement already satisfied: sacremoses in /usr/local/lib/python3.7/dist-packages (from transformers) (0.0.46)\n",
            "Requirement already satisfied: numpy>=1.17 in /usr/local/lib/python3.7/dist-packages (from transformers) (1.19.5)\n",
            "Requirement already satisfied: filelock in /usr/local/lib/python3.7/dist-packages (from transformers) (3.3.0)\n",
            "Requirement already satisfied: requests in /usr/local/lib/python3.7/dist-packages (from transformers) (2.23.0)\n",
            "Requirement already satisfied: regex!=2019.12.17 in /usr/local/lib/python3.7/dist-packages (from transformers) (2019.12.20)\n",
            "Requirement already satisfied: tqdm>=4.27 in /usr/local/lib/python3.7/dist-packages (from transformers) (4.62.3)\n",
            "Requirement already satisfied: huggingface-hub>=0.0.17 in /usr/local/lib/python3.7/dist-packages (from transformers) (0.0.19)\n",
            "Requirement already satisfied: typing-extensions in /usr/local/lib/python3.7/dist-packages (from huggingface-hub>=0.0.17->transformers) (3.7.4.3)\n",
            "Requirement already satisfied: pyparsing>=2.0.2 in /usr/local/lib/python3.7/dist-packages (from packaging>=20.0->transformers) (2.4.7)\n",
            "Requirement already satisfied: zipp>=0.5 in /usr/local/lib/python3.7/dist-packages (from importlib-metadata->transformers) (3.6.0)\n",
            "Requirement already satisfied: certifi>=2017.4.17 in /usr/local/lib/python3.7/dist-packages (from requests->transformers) (2021.5.30)\n",
            "Requirement already satisfied: urllib3!=1.25.0,!=1.25.1,<1.26,>=1.21.1 in /usr/local/lib/python3.7/dist-packages (from requests->transformers) (1.24.3)\n",
            "Requirement already satisfied: chardet<4,>=3.0.2 in /usr/local/lib/python3.7/dist-packages (from requests->transformers) (3.0.4)\n",
            "Requirement already satisfied: idna<3,>=2.5 in /usr/local/lib/python3.7/dist-packages (from requests->transformers) (2.10)\n",
            "Requirement already satisfied: joblib in /usr/local/lib/python3.7/dist-packages (from sacremoses->transformers) (1.0.1)\n",
            "Requirement already satisfied: six in /usr/local/lib/python3.7/dist-packages (from sacremoses->transformers) (1.15.0)\n",
            "Requirement already satisfied: click in /usr/local/lib/python3.7/dist-packages (from sacremoses->transformers) (7.1.2)\n",
            "Requirement already satisfied: jiwer in /usr/local/lib/python3.7/dist-packages (2.2.0)\n",
            "Requirement already satisfied: numpy in /usr/local/lib/python3.7/dist-packages (from jiwer) (1.19.5)\n",
            "Requirement already satisfied: python-Levenshtein in /usr/local/lib/python3.7/dist-packages (from jiwer) (0.12.2)\n",
            "Requirement already satisfied: setuptools in /usr/local/lib/python3.7/dist-packages (from python-Levenshtein->jiwer) (57.4.0)\n"
          ]
        }
      ]
    },
    {
      "cell_type": "markdown",
      "metadata": {
        "id": "NxIOhO1zyfQL"
      },
      "source": [
        "# Importing all necessary files"
      ]
    },
    {
      "cell_type": "code",
      "metadata": {
        "id": "gEe6bam4mcqD"
      },
      "source": [
        "from transformers import pipeline\n",
        "from transformers import BertForQuestionAnswering, BertTokenizer\n",
        "from transformers import RobertaForQuestionAnswering, RobertaTokenizer\n",
        "from transformers import XLNetTokenizer, TFXLNetForQuestionAnsweringSimple\n",
        "import pandas as pd\n",
        "import torch\n",
        "from sklearn.metrics.pairwise import cosine_similarity\n",
        "from sklearn.metrics import f1_score\n",
        "from sklearn.feature_extraction.text import CountVectorizer\n",
        "import csv\n",
        "from jiwer import wer"
      ],
      "execution_count": 2,
      "outputs": []
    },
    {
      "cell_type": "markdown",
      "metadata": {
        "id": "Is0AS-jCf44m"
      },
      "source": [
        "# Converting CSV into list of dictionaries"
      ]
    },
    {
      "cell_type": "code",
      "metadata": {
        "colab": {
          "base_uri": "https://localhost:8080/",
          "height": 142
        },
        "id": "1bPHPPxUhh_l",
        "outputId": "83b6416b-c6f9-4b87-c72c-636c0af8f30f"
      },
      "source": [
        "data = pd.read_csv('/content/Q&A.csv')\n",
        "data.head(3)"
      ],
      "execution_count": 3,
      "outputs": [
        {
          "output_type": "execute_result",
          "data": {
            "text/html": [
              "<div>\n",
              "<style scoped>\n",
              "    .dataframe tbody tr th:only-of-type {\n",
              "        vertical-align: middle;\n",
              "    }\n",
              "\n",
              "    .dataframe tbody tr th {\n",
              "        vertical-align: top;\n",
              "    }\n",
              "\n",
              "    .dataframe thead th {\n",
              "        text-align: right;\n",
              "    }\n",
              "</style>\n",
              "<table border=\"1\" class=\"dataframe\">\n",
              "  <thead>\n",
              "    <tr style=\"text-align: right;\">\n",
              "      <th></th>\n",
              "      <th>Context</th>\n",
              "      <th>Question</th>\n",
              "      <th>Answer</th>\n",
              "    </tr>\n",
              "  </thead>\n",
              "  <tbody>\n",
              "    <tr>\n",
              "      <th>0</th>\n",
              "      <td>Architecturally, the school has a Catholic cha...</td>\n",
              "      <td>To whom did the Virgin Mary allegedly appear i...</td>\n",
              "      <td>Saint Bernadette Soubirous</td>\n",
              "    </tr>\n",
              "    <tr>\n",
              "      <th>1</th>\n",
              "      <td>As at most other universities, Notre Dame's st...</td>\n",
              "      <td>When did the Scholastic Magazine of Notre dame...</td>\n",
              "      <td>September 1876</td>\n",
              "    </tr>\n",
              "    <tr>\n",
              "      <th>2</th>\n",
              "      <td>The university is the major seat of the Congre...</td>\n",
              "      <td>Where is the headquarters of the Congregation ...</td>\n",
              "      <td>Rome</td>\n",
              "    </tr>\n",
              "  </tbody>\n",
              "</table>\n",
              "</div>"
            ],
            "text/plain": [
              "                                             Context  ...                      Answer\n",
              "0  Architecturally, the school has a Catholic cha...  ...  Saint Bernadette Soubirous\n",
              "1  As at most other universities, Notre Dame's st...  ...              September 1876\n",
              "2  The university is the major seat of the Congre...  ...                        Rome\n",
              "\n",
              "[3 rows x 3 columns]"
            ]
          },
          "metadata": {},
          "execution_count": 3
        }
      ]
    },
    {
      "cell_type": "code",
      "metadata": {
        "colab": {
          "base_uri": "https://localhost:8080/"
        },
        "id": "vofIVvmthxCn",
        "outputId": "92133383-052a-455b-c5a1-f65e8e01fbc2"
      },
      "source": [
        "with open('/content/Q&A.csv') as f:\n",
        "    data_dictionary = [{k: v for k, v in row.items()}\n",
        "                 for row in csv.DictReader(f, skipinitialspace=True)]\n",
        "    print(len(data_dictionary))\n",
        "    print(data_dictionary[0])\n",
        "    \n"
      ],
      "execution_count": 4,
      "outputs": [
        {
          "output_type": "stream",
          "name": "stdout",
          "text": [
            "20\n",
            "{'Context': 'Architecturally, the school has a Catholic character. Atop the Main Building\\'s gold dome is a golden statue of the Virgin Mary. Immediately in front of the Main Building and facing it, is a copper statue of Christ with arms upraised with the legend \\\\\"Venite Ad Me Omnes\\\\\". Next to the Main Building is the Basilica of the Sacred Heart. Immediately behind the basilica is the Grotto, a Marian place of prayer and reflection. It is a replica of the grotto at Lourdes, France where the Virgin Mary reputedly appeared to Saint Bernadette Soubirous in 1858. At the end of the main drive (and in a direct line that connects through 3 statues and the Gold Dome), is a simple, modern stone statue of Mary.', 'Question': 'To whom did the Virgin Mary allegedly appear in 1858 in Lourdes France?', 'Answer': 'Saint Bernadette Soubirous'}\n"
          ]
        }
      ]
    },
    {
      "cell_type": "markdown",
      "metadata": {
        "id": "ndUlZIV2iruJ"
      },
      "source": [
        "# Model Initialization"
      ]
    },
    {
      "cell_type": "code",
      "metadata": {
        "id": "Ce4Y8BRhfaNR"
      },
      "source": [
        "def initialize_model(model_name):\n",
        "\n",
        "  ''' \n",
        "      input : name of the model\n",
        "      output : model, tokenizer\n",
        "  '''\n",
        "\n",
        "\n",
        "  if model_name == 'bert-large-uncased-whole-word-masking-finetuned-squad':\n",
        "    model = BertForQuestionAnswering.from_pretrained('bert-large-uncased-whole-word-masking-finetuned-squad')\n",
        "    tokenizer = BertTokenizer.from_pretrained('bert-large-uncased-whole-word-masking-finetuned-squad')\n",
        "  elif model_name == 'roberta-base':\n",
        "    model = RobertaForQuestionAnswering.from_pretrained('roberta-base')\n",
        "    tokenizer = RobertaTokenizer.from_pretrained('roberta-base')\n",
        "  return model, tokenizer\n"
      ],
      "execution_count": 6,
      "outputs": []
    },
    {
      "cell_type": "markdown",
      "metadata": {
        "id": "lVbOi7JQk0kn"
      },
      "source": [
        "# Model result"
      ]
    },
    {
      "cell_type": "code",
      "metadata": {
        "id": "FLbqHbscfaR6"
      },
      "source": [
        "def get_model_result(data_dictionary, model, tokenizer, model_name):\n",
        "\n",
        "  '''\n",
        "       input : data_dictionary, model which we are using, tokenizer of particular model,\n",
        "               & name of the model\n",
        "       output: dictionary \n",
        "         \n",
        "  '''\n",
        "\n",
        "  for i in range(len(data_dictionary)):\n",
        "    question = data_dictionary[i]['Question']\n",
        "    context = data_dictionary[i]['Context']\n",
        "    question_answering = pipeline('question-answering', model= model, tokenizer=tokenizer)\n",
        "    result = question_answering(question=question, context=context)\n",
        "    data_dictionary[i][model_name + 'predictions'] = result['answer']\n",
        "      \n",
        "  return data_dictionary"
      ],
      "execution_count": 7,
      "outputs": []
    },
    {
      "cell_type": "markdown",
      "metadata": {
        "id": "pyd88XyTrmDt"
      },
      "source": [
        "# Consine prediction"
      ]
    },
    {
      "cell_type": "code",
      "metadata": {
        "id": "teZ66il6ridd"
      },
      "source": [
        "def cosine(answer, prediction):\n",
        "  '''\n",
        "  input : actual answer, and predicted answer\n",
        "  output: cosine similarity value\n",
        "\n",
        "  '''\n",
        "  cv = CountVectorizer(max_features=500)\n",
        "  for i in range(len(data_dictionary)):\n",
        "    answers = [answer, prediction]\n",
        "    vectors = cv.fit_transform(answers).toarray()\n",
        "    similarity = cosine_similarity(vectors)\n",
        "  return similarity[1][0]\n",
        "\n",
        "\n"
      ],
      "execution_count": 8,
      "outputs": []
    },
    {
      "cell_type": "markdown",
      "metadata": {
        "id": "KOJjGQSFIqUU"
      },
      "source": [
        "# WER prediction"
      ]
    },
    {
      "cell_type": "code",
      "metadata": {
        "id": "haQjTSrtIXg5"
      },
      "source": [
        "def word_error_rate(answer, prediction):\n",
        "\n",
        "  '''\n",
        "  input : actual answer, predicted answer\n",
        "  output : \n",
        "  \n",
        "  '''\n",
        "  for i in range(len(data_dictionary)):\n",
        "    similarity = 1 - wer(answer, prediction)\n",
        "  return similarity\n"
      ],
      "execution_count": 9,
      "outputs": []
    },
    {
      "cell_type": "markdown",
      "metadata": {
        "id": "nMmOMGSYKSM9"
      },
      "source": [
        "# F1 Score prediction"
      ]
    },
    {
      "cell_type": "code",
      "metadata": {
        "id": "FCMTTrr_KVXx"
      },
      "source": [
        "def f1_score(answer, prediction):\n",
        "\n",
        "  '''\n",
        "    input: actuall answer, predicted answer'\n",
        "    output: F1 Score\n",
        "  '''\n",
        "\n",
        "  for i in range(len(data_dictionary)):\n",
        "    answer_tokens = answer.split()\n",
        "    prediction_tokens = prediction.split()\n",
        "    if len(prediction_tokens) == 0 or len(answer_tokens):\n",
        "      fi_pred = (int(prediction_tokens == answer_tokens))\n",
        "    \n",
        "    common_tokens = set(prediction_tokens) & set(answer_tokens)\n",
        "    if len(common_tokens) == 0:\n",
        "      fi_pred = 0 \n",
        "    \n",
        "    else:\n",
        "      precision = len(common_tokens) / len(prediction_tokens)\n",
        "      recall = len(common_tokens) / len(answer_tokens)\n",
        "      fi_pred = (2 * (precision * recall) / (precision + recall))\n",
        "  return fi_pred\n"
      ],
      "execution_count": 10,
      "outputs": []
    },
    {
      "cell_type": "markdown",
      "metadata": {
        "id": "Pdosdx09PLB0"
      },
      "source": [
        "# Metric Evaluation"
      ]
    },
    {
      "cell_type": "code",
      "metadata": {
        "id": "ZsB3qG15PQxu"
      },
      "source": [
        "def get_evaluation_results(data_dictionary, metric_name, model_name):\n",
        "\n",
        "  '''\n",
        "      input: dictionary, name of metric & model name\n",
        "      output: dictionary\n",
        "  '''\n",
        "  for item in data_dictionary:\n",
        "    if metric_name == 'cosine':\n",
        "      item[model_name+' cosine similarity'] = cosine(item['Answer'], item[model_name +'predictions'])\n",
        "    elif metric_name == 'wer':\n",
        "      item[model_name+' wer'] = word_error_rate(item['Answer'], item[model_name +'predictions'])\n",
        "    elif metric_name == 'F1Score':\n",
        "      item[model_name+' F1Score'] = f1_score(item['Answer'], item[model_name+'predictions'])\n",
        "  return data_dictionary"
      ],
      "execution_count": 11,
      "outputs": []
    },
    {
      "cell_type": "markdown",
      "metadata": {
        "id": "SYSUHefoUCEt"
      },
      "source": [
        "# Final function\n"
      ]
    },
    {
      "cell_type": "code",
      "metadata": {
        "id": "WHHSzmIoTiKB"
      },
      "source": [
        "def question_answering(model_names,data_dictionary,evaluation_metrics_name,evaluation=True):\n",
        "  '''\n",
        "  input : name of the model, dictionary of data, metric name \n",
        "  output : required dictionary\n",
        "  '''\n",
        "  for model_name in model_names:\n",
        "    model,tokenizer=initialize_model('bert-large-uncased-whole-word-masking-finetuned-squad')\n",
        "    data_dictionary=get_model_result(data_dictionary,model, tokenizer,model_name)\n",
        "    if evaluation:\n",
        "      for metric in evaluation_metrics_name:\n",
        "        data_dictionary = get_evaluation_results(data_dictionary,metric,model_name)\n",
        "  return data_dictionary"
      ],
      "execution_count": 12,
      "outputs": []
    },
    {
      "cell_type": "code",
      "metadata": {
        "id": "MqGMqNmFXxnq"
      },
      "source": [
        "model_names = ['bert-large-uncased-whole-word-masking-finetuned-squad']\n",
        "data_dictionary = data_dictionary\n",
        "evaluation_metrics_name = ['cosine']"
      ],
      "execution_count": 13,
      "outputs": []
    },
    {
      "cell_type": "code",
      "metadata": {
        "colab": {
          "base_uri": "https://localhost:8080/"
        },
        "id": "r88tv_V9Tgu1",
        "outputId": "30d7b75f-8876-449a-9546-518c58243808"
      },
      "source": [
        "question_answering(model_names,data_dictionary,evaluation_metrics_name,evaluation=True)"
      ],
      "execution_count": 14,
      "outputs": [
        {
          "output_type": "execute_result",
          "data": {
            "text/plain": [
              "[{'Answer': 'Saint Bernadette Soubirous',\n",
              "  'Context': 'Architecturally, the school has a Catholic character. Atop the Main Building\\'s gold dome is a golden statue of the Virgin Mary. Immediately in front of the Main Building and facing it, is a copper statue of Christ with arms upraised with the legend \\\\\"Venite Ad Me Omnes\\\\\". Next to the Main Building is the Basilica of the Sacred Heart. Immediately behind the basilica is the Grotto, a Marian place of prayer and reflection. It is a replica of the grotto at Lourdes, France where the Virgin Mary reputedly appeared to Saint Bernadette Soubirous in 1858. At the end of the main drive (and in a direct line that connects through 3 statues and the Gold Dome), is a simple, modern stone statue of Mary.',\n",
              "  'Question': 'To whom did the Virgin Mary allegedly appear in 1858 in Lourdes France?',\n",
              "  'bert-large-uncased-whole-word-masking-finetuned-squad cosine similarity': 1.0000000000000002,\n",
              "  'bert-large-uncased-whole-word-masking-finetuned-squadpredictions': 'Saint Bernadette Soubirous'},\n",
              " {'Answer': 'September 1876',\n",
              "  'Context': \"As at most other universities, Notre Dame's students run a number of news media outlets. The nine student-run outlets include three newspapers, both a radio and television station, and several magazines and journals. Begun as a one-page journal in September 1876, the Scholastic magazine is issued twice monthly and claims to be the oldest continuous collegiate publication in the United States. The other magazine, The Juggler, is released twice a year and focuses on student literature and artwork. The Dome yearbook is published annually. The newspapers have varying publication interests, with The Observer published daily and mainly reporting university and other news, and staffed by students from both Notre Dame and Saint Mary's College. Unlike Scholastic and The Dome, The Observer is an independent publication and does not have a faculty advisor or any editorial oversight from the University. In 1987, when some students believed that The Observer began to show a conservative bias, a liberal newspaper, Common Sense was published. Likewise, in 2003, when other students believed that the paper showed a liberal bias, the conservative paper Irish Rover went into production. Neither paper is published as often as The Observer; however, all three are distributed to all students. Finally, in Spring 2008 an undergraduate journal for political science research, Beyond Politics, made its debut.\",\n",
              "  'Question': 'When did the Scholastic Magazine of Notre dame begin publishing?',\n",
              "  'bert-large-uncased-whole-word-masking-finetuned-squad cosine similarity': 0.9999999999999998,\n",
              "  'bert-large-uncased-whole-word-masking-finetuned-squadpredictions': 'September 1876,'},\n",
              " {'Answer': 'Rome',\n",
              "  'Context': 'The university is the major seat of the Congregation of Holy Cross (albeit not its official headquarters, which are in Rome). Its main seminary, Moreau Seminary, is located on the campus across St. Joseph lake from the Main Building. Old College, the oldest building on campus and located near the shore of St. Mary lake, houses undergraduate seminarians. Retired priests and brothers reside in Fatima House (a former retreat center), Holy Cross House, as well as Columba Hall near the Grotto. The university through the Moreau Seminary has ties to theologian Frederick Buechner. While not Catholic, Buechner has praised writers from Notre Dame and Moreau Seminary created a Buechner Prize for Preaching.',\n",
              "  'Question': 'Where is the headquarters of the Congregation of the Holy Cross?',\n",
              "  'bert-large-uncased-whole-word-masking-finetuned-squad cosine similarity': 1.0,\n",
              "  'bert-large-uncased-whole-word-masking-finetuned-squadpredictions': 'Rome).'},\n",
              " {'Answer': 'Learning Resource Center',\n",
              "  'Context': \"All of Notre Dame's undergraduate students are a part of one of the five undergraduate colleges at the school or are in the First Year of Studies program. The First Year of Studies program was established in 1962 to guide incoming freshmen in their first year at the school before they have declared a major. Each student is given an academic advisor from the program who helps them to choose classes that give them exposure to any major in which they are interested. The program also includes a Learning Resource Center which provides time management, collaborative learning, and subject tutoring. This program has been recognized previously, by U.S. News & World Report, as outstanding\",\n",
              "  'Question': 'What entity provides help with the management of time for new students at Notre Dame?',\n",
              "  'bert-large-uncased-whole-word-masking-finetuned-squad cosine similarity': 1.0000000000000002,\n",
              "  'bert-large-uncased-whole-word-masking-finetuned-squadpredictions': 'Learning Resource Center'},\n",
              " {'Answer': 'eight',\n",
              "  'Context': 'The College of Engineering was established in 1920, however, early courses in civil and mechanical engineering were a part of the College of Science since the 1870s. Today the college, housed in the Fitzpatrick, Cushing, and Stinson-Remick Halls of Engineering, includes five departments of study \\\\u2013 aerospace and mechanical engineering, chemical and biomolecular engineering, civil engineering and geological sciences, computer science and engineering, and electrical engineering \\\\u2013 with eight B.S. degrees offered. Additionally, the college offers five-year dual degree programs with the Colleges of Arts and Letters and of Business awarding additional B.A. and Master of Business Administration (MBA) degrees, respectively.',\n",
              "  'Question': 'How many BS level degrees are offered in the College of Engineering at Notre Dame?',\n",
              "  'bert-large-uncased-whole-word-masking-finetuned-squad cosine similarity': 1.0,\n",
              "  'bert-large-uncased-whole-word-masking-finetuned-squadpredictions': 'eight'},\n",
              " {'Answer': '1924',\n",
              "  'Context': 'The university first offered graduate degrees, in the form of a Master of Arts (MA), in the 1854\\\\u20131855 academic year. The program expanded to include Master of Laws (LL.M.) and Master of Civil Engineering in its early stages of growth, before a formal graduate school education was developed with a thesis not required to receive the degrees. This changed in 1924 with formal requirements developed for graduate degrees, including offering Doctorate (PhD) degrees. Today each of the five colleges offer graduate education. Most of the departments from the College of Arts and Letters offer PhD programs, while a professional Master of Divinity (M.Div.) program also exists. All of the departments in the College of Science offer PhD programs, except for the Department of Pre-Professional Studies. The School of Architecture offers a Master of Architecture, while each of the departments of the College of Engineering offer PhD programs. The College of Business offers multiple professional programs including MBA and Master of Science in Accountancy programs. It also operates facilities in Chicago and Cincinnati for its executive MBA program. Additionally, the Alliance for Catholic Education program offers a Master of Education program where students study at the university during the summer and teach in Catholic elementary schools, middle schools, and high schools across the Southern United States for two school years.',\n",
              "  'Question': 'The granting of Doctorate degrees first occurred in what year at Notre Dame?',\n",
              "  'bert-large-uncased-whole-word-masking-finetuned-squad cosine similarity': 1.0,\n",
              "  'bert-large-uncased-whole-word-masking-finetuned-squadpredictions': '1924'},\n",
              " {'Answer': 'Master of Divinity',\n",
              "  'Context': 'The university first offered graduate degrees, in the form of a Master of Arts (MA), in the 1854\\\\u20131855 academic year. The program expanded to include Master of Laws (LL.M.) and Master of Civil Engineering in its early stages of growth, before a formal graduate school education was developed with a thesis not required to receive the degrees. This changed in 1924 with formal requirements developed for graduate degrees, including offering Doctorate (PhD) degrees. Today each of the five colleges offer graduate education. Most of the departments from the College of Arts and Letters offer PhD programs, while a professional Master of Divinity (M.Div.) program also exists. All of the departments in the College of Science offer PhD programs, except for the Department of Pre-Professional Studies. The School of Architecture offers a Master of Architecture, while each of the departments of the College of Engineering offer PhD programs. The College of Business offers multiple professional programs including MBA and Master of Science in Accountancy programs. It also operates facilities in Chicago and Cincinnati for its executive MBA program. Additionally, the Alliance for Catholic Education program offers a Master of Education program where students study at the university during the summer and teach in Catholic elementary schools, middle schools, and high schools across the Southern United States for two school years.',\n",
              "  'Question': 'What type of degree is an M.Div.?',\n",
              "  'bert-large-uncased-whole-word-masking-finetuned-squad cosine similarity': 1.0000000000000002,\n",
              "  'bert-large-uncased-whole-word-masking-finetuned-squadpredictions': 'Master of Divinity'},\n",
              " {'Answer': 'Joan B. Kroc Institute for International Peace Studies',\n",
              "  'Context': \"The Joan B. Kroc Institute for International Peace Studies at the University of Notre Dame is dedicated to research, education and outreach on the causes of violent conflict and the conditions for sustainable peace. It offers PhD, Master's, and undergraduate degrees in peace studies. It was founded in 1986 through the donations of Joan B. Kroc, the widow of McDonald's owner Ray Kroc. The institute was inspired by the vision of the Rev. Theodore M. Hesburgh CSC, President Emeritus of the University of Notre Dame. The institute has contributed to international policy discussions about peace building practices.\",\n",
              "  'Question': 'What institute at Notre Dame studies  the reasons for violent conflict?',\n",
              "  'bert-large-uncased-whole-word-masking-finetuned-squad cosine similarity': 0.9999999999999997,\n",
              "  'bert-large-uncased-whole-word-masking-finetuned-squadpredictions': 'Joan B. Kroc Institute for International Peace Studies'},\n",
              " {'Answer': 'President Emeritus of the University of Notre Dame',\n",
              "  'Context': \"The Joan B. Kroc Institute for International Peace Studies at the University of Notre Dame is dedicated to research, education and outreach on the causes of violent conflict and the conditions for sustainable peace. It offers PhD, Master's, and undergraduate degrees in peace studies. It was founded in 1986 through the donations of Joan B. Kroc, the widow of McDonald's owner Ray Kroc. The institute was inspired by the vision of the Rev. Theodore M. Hesburgh CSC, President Emeritus of the University of Notre Dame. The institute has contributed to international policy discussions about peace building practices.\",\n",
              "  'Question': \"What is the title of Notre Dame's Theodore Hesburgh?\",\n",
              "  'bert-large-uncased-whole-word-masking-finetuned-squad cosine similarity': 0.4472135954999579,\n",
              "  'bert-large-uncased-whole-word-masking-finetuned-squadpredictions': 'President Emeritus'},\n",
              " {'Answer': '14',\n",
              "  'Context': 'The library system of the university is divided between the main library and each of the colleges and schools. The main building is the 14-story Theodore M. Hesburgh Library, completed in 1963, which is the third building to house the main collection of books. The front of the library is adorned with the Word of Life mural designed by artist Millard Sheets. This mural is popularly known as \\\\\"Touchdown Jesus\\\\\" because of its proximity to Notre Dame Stadium and Jesus\\' arms appearing to make the signal for a touchdown.',\n",
              "  'Question': 'How many stories tall is the main library at Notre Dame?',\n",
              "  'bert-large-uncased-whole-word-masking-finetuned-squad cosine similarity': 0.7071067811865475,\n",
              "  'bert-large-uncased-whole-word-masking-finetuned-squadpredictions': '14-story'},\n",
              " {'Answer': 'Theodore M. Hesburgh Library',\n",
              "  'Context': 'The library system of the university is divided between the main library and each of the colleges and schools. The main building is the 14-story Theodore M. Hesburgh Library, completed in 1963, which is the third building to house the main collection of books. The front of the library is adorned with the Word of Life mural designed by artist Millard Sheets. This mural is popularly known as \\\\\"Touchdown Jesus\\\\\" because of its proximity to Notre Dame Stadium and Jesus\\' arms appearing to make the signal for a touchdown.',\n",
              "  'Question': 'What is the name of the main library at Notre Dame?',\n",
              "  'bert-large-uncased-whole-word-masking-finetuned-squad cosine similarity': 1.0000000000000002,\n",
              "  'bert-large-uncased-whole-word-masking-finetuned-squadpredictions': 'Theodore M. Hesburgh Library,'},\n",
              " {'Answer': '3,577',\n",
              "  'Context': 'Notre Dame is known for its competitive admissions, with the incoming class enrolling in fall 2015 admitting 3,577 from a pool of 18,156 (19.7%). The academic profile of the enrolled class continues to rate among the top 10 to 15 in the nation for national research universities. The university practices a non-restrictive early action policy that allows admitted students to consider admission to Notre Dame as well as any other colleges to which they were accepted. 1,400 of the 3,577 (39.1%) were admitted under the early action plan. Admitted students came from 1,311 high schools and the average student traveled more than 750 miles to Notre Dame, making it arguably the most representative university in the United States. While all entering students begin in the College of the First Year of Studies, 25% have indicated they plan to study in the liberal arts or social sciences, 24% in engineering, 24% in business, 24% in science, and 3% in architecture.',\n",
              "  'Question': 'How many incoming students did Notre Dame admit in fall 2015',\n",
              "  'bert-large-uncased-whole-word-masking-finetuned-squad cosine similarity': 1.0,\n",
              "  'bert-large-uncased-whole-word-masking-finetuned-squadpredictions': '3,577'},\n",
              " {'Answer': '19.70%',\n",
              "  'Context': 'Notre Dame is known for its competitive admissions, with the incoming class enrolling in fall 2015 admitting 3,577 from a pool of 18,156 (19.7%). The academic profile of the enrolled class continues to rate among the top 10 to 15 in the nation for national research universities. The university practices a non-restrictive early action policy that allows admitted students to consider admission to Notre Dame as well as any other colleges to which they were accepted. 1,400 of the 3,577 (39.1%) were admitted under the early action plan. Admitted students came from 1,311 high schools and the average student traveled more than 750 miles to Notre Dame, making it arguably the most representative university in the United States. While all entering students begin in the College of the First Year of Studies, 25% have indicated they plan to study in the liberal arts or social sciences, 24% in engineering, 24% in business, 24% in science, and 3% in architecture.',\n",
              "  'Question': 'What percentage of students were admitted to Notre Dame in fall 2015',\n",
              "  'bert-large-uncased-whole-word-masking-finetuned-squad cosine similarity': 0.7071067811865475,\n",
              "  'bert-large-uncased-whole-word-masking-finetuned-squadpredictions': '(19.7%).'},\n",
              " {'Answer': '18th overall',\n",
              "  'Context': 'In 2015-2016, Notre Dame ranked 18th overall among \\\\\"national universities\\\\\" in the United States in U.S. News & World Report\\'s Best Colleges 2016. In 2014, USA Today ranked Notre Dame 10th overall for American universities based on data from College Factual. Forbes.com\\'s America\\'s Best Colleges ranks Notre Dame 13th among colleges in the United States in 2015, 8th among Research Universities, and 1st in the Midwest.U.S. News & World Report also lists Notre Dame Law School as 22nd overall. BusinessWeek ranks Mendoza College of Business undergraduate school as 1st overall. It ranks the MBA program as 20th overall. The Philosophical Gourmet Report ranks Notre Dame\\'s graduate philosophy program as 15th nationally, while ARCHITECT Magazine ranked the undergraduate architecture program as 12th nationally. Additionally, the study abroad program ranks sixth in highest participation percentage in the nation, with 57.6% of students choosing to study abroad in 17 countries. According to payscale.com, undergraduate alumni of University of Notre Dame have a mid-career median salary $110,000, making it the 24th highest among colleges and universities in the United States. The median starting salary of $55,300 ranked 58th in the same peer group.',\n",
              "  'Question': 'Where did U.S. News & World Report rank Notre Dame in its 2015-2016 university rankings',\n",
              "  'bert-large-uncased-whole-word-masking-finetuned-squad cosine similarity': 0.4714045207910316,\n",
              "  'bert-large-uncased-whole-word-masking-finetuned-squadpredictions': '18th overall among \\\\\"national universities\\\\\" in the United States'},\n",
              " {'Answer': '8th',\n",
              "  'Context': 'In 2015-2016, Notre Dame ranked 18th overall among \\\\\"national universities\\\\\" in the United States in U.S. News & World Report\\'s Best Colleges 2016. In 2014, USA Today ranked Notre Dame 10th overall for American universities based on data from College Factual. Forbes.com\\'s America\\'s Best Colleges ranks Notre Dame 13th among colleges in the United States in 2015, 8th among Research Universities, and 1st in the Midwest.U.S. News & World Report also lists Notre Dame Law School as 22nd overall. BusinessWeek ranks Mendoza College of Business undergraduate school as 1st overall. It ranks the MBA program as 20th overall. The Philosophical Gourmet Report ranks Notre Dame\\'s graduate philosophy program as 15th nationally, while ARCHITECT Magazine ranked the undergraduate architecture program as 12th nationally. Additionally, the study abroad program ranks sixth in highest participation percentage in the nation, with 57.6% of students choosing to study abroad in 17 countries. According to payscale.com, undergraduate alumni of University of Notre Dame have a mid-career median salary $110,000, making it the 24th highest among colleges and universities in the United States. The median starting salary of $55,300 ranked 58th in the same peer group.',\n",
              "  'Question': 'Forbes.com placed Notre Dame at what position compared to other US research universities?',\n",
              "  'bert-large-uncased-whole-word-masking-finetuned-squad cosine similarity': 1.0,\n",
              "  'bert-large-uncased-whole-word-masking-finetuned-squadpredictions': '8th'},\n",
              " {'Answer': 'Father Joseph Carrier, C.S.C.',\n",
              "  'Context': \"Father Joseph Carrier, C.S.C. was Director of the Science Museum and the Library and Professor of Chemistry and Physics until 1874. Carrier taught that scientific research and its promise for progress were not antagonistic to the ideals of intellectual and moral culture endorsed by the Church. One of Carrier's students was Father John Augustine Zahm (1851\\\\u20131921) who was made Professor and Co-Director of the Science Department at age 23 and by 1900 was a nationally prominent scientist and naturalist. Zahm was active in the Catholic Summer School movement, which introduced Catholic laity to contemporary intellectual issues. His book Evolution and Dogma (1896) defended certain aspects of evolutionary theory as true, and argued, moreover, that even the great Church teachers Thomas Aquinas and Augustine taught something like it. The intervention of Irish American Catholics in Rome prevented Zahm's censure by the Vatican. In 1913, Zahm and former President Theodore Roosevelt embarked on a major expedition through the Amazon.\",\n",
              "  'Question': 'What person was the Director of the Science Museum at Notre Dame in the late 19th century?',\n",
              "  'bert-large-uncased-whole-word-masking-finetuned-squad cosine similarity': 1.0000000000000002,\n",
              "  'bert-large-uncased-whole-word-masking-finetuned-squadpredictions': 'Father Joseph Carrier,'},\n",
              " {'Answer': '1851\\\\u20131921',\n",
              "  'Context': \"Father Joseph Carrier, C.S.C. was Director of the Science Museum and the Library and Professor of Chemistry and Physics until 1874. Carrier taught that scientific research and its promise for progress were not antagonistic to the ideals of intellectual and moral culture endorsed by the Church. One of Carrier's students was Father John Augustine Zahm (1851\\\\u20131921) who was made Professor and Co-Director of the Science Department at age 23 and by 1900 was a nationally prominent scientist and naturalist. Zahm was active in the Catholic Summer School movement, which introduced Catholic laity to contemporary intellectual issues. His book Evolution and Dogma (1896) defended certain aspects of evolutionary theory as true, and argued, moreover, that even the great Church teachers Thomas Aquinas and Augustine taught something like it. The intervention of Irish American Catholics in Rome prevented Zahm's censure by the Vatican. In 1913, Zahm and former President Theodore Roosevelt embarked on a major expedition through the Amazon.\",\n",
              "  'Question': 'What was the lifespan of John Augustine Zahm?',\n",
              "  'bert-large-uncased-whole-word-masking-finetuned-squad cosine similarity': 0.9999999999999998,\n",
              "  'bert-large-uncased-whole-word-masking-finetuned-squadpredictions': '(1851\\\\u20131921)'},\n",
              " {'Answer': 'the Science Department',\n",
              "  'Context': \"Father Joseph Carrier, C.S.C. was Director of the Science Museum and the Library and Professor of Chemistry and Physics until 1874. Carrier taught that scientific research and its promise for progress were not antagonistic to the ideals of intellectual and moral culture endorsed by the Church. One of Carrier's students was Father John Augustine Zahm (1851\\\\u20131921) who was made Professor and Co-Director of the Science Department at age 23 and by 1900 was a nationally prominent scientist and naturalist. Zahm was active in the Catholic Summer School movement, which introduced Catholic laity to contemporary intellectual issues. His book Evolution and Dogma (1896) defended certain aspects of evolutionary theory as true, and argued, moreover, that even the great Church teachers Thomas Aquinas and Augustine taught something like it. The intervention of Irish American Catholics in Rome prevented Zahm's censure by the Vatican. In 1913, Zahm and former President Theodore Roosevelt embarked on a major expedition through the Amazon.\",\n",
              "  'Question': 'What program did John Augustine Zahm come to co-direct at Nore Dame?',\n",
              "  'bert-large-uncased-whole-word-masking-finetuned-squad cosine similarity': 0.816496580927726,\n",
              "  'bert-large-uncased-whole-word-masking-finetuned-squadpredictions': 'Science Department'},\n",
              " {'Answer': '1882',\n",
              "  'Context': \"In 1882, Albert Zahm (John Zahm's brother) built an early wind tunnel used to compare lift to drag of aeronautical models. Around 1899, Professor Jerome Green became the first American to send a wireless message. In 1931, Father Julius Nieuwland performed early work on basic reactions that was used to create neoprene. Study of nuclear physics at the university began with the building of a nuclear accelerator in 1936, and continues now partly through a partnership in the Joint Institute for Nuclear Astrophysics.\",\n",
              "  'Question': 'In what year did Albert Zahm begin comparing aeronatical models at Notre Dame?',\n",
              "  'bert-large-uncased-whole-word-masking-finetuned-squad cosine similarity': 1.0,\n",
              "  'bert-large-uncased-whole-word-masking-finetuned-squadpredictions': '1882,'},\n",
              " {'Answer': 'Professor Jerome Green',\n",
              "  'Context': \"In 1882, Albert Zahm (John Zahm's brother) built an early wind tunnel used to compare lift to drag of aeronautical models. Around 1899, Professor Jerome Green became the first American to send a wireless message. In 1931, Father Julius Nieuwland performed early work on basic reactions that was used to create neoprene. Study of nuclear physics at the university began with the building of a nuclear accelerator in 1936, and continues now partly through a partnership in the Joint Institute for Nuclear Astrophysics.\",\n",
              "  'Question': 'Which professor sent the first wireless message in the USA?',\n",
              "  'bert-large-uncased-whole-word-masking-finetuned-squad cosine similarity': 1.0000000000000002,\n",
              "  'bert-large-uncased-whole-word-masking-finetuned-squadpredictions': 'Professor Jerome Green'}]"
            ]
          },
          "metadata": {},
          "execution_count": 14
        }
      ]
    },
    {
      "cell_type": "code",
      "metadata": {
        "id": "idQ6QaX0tSqT"
      },
      "source": [
        ""
      ],
      "execution_count": 23,
      "outputs": []
    },
    {
      "cell_type": "code",
      "metadata": {
        "id": "aSaK0_U5ucfW"
      },
      "source": [
        ""
      ],
      "execution_count": null,
      "outputs": []
    }
  ]
}